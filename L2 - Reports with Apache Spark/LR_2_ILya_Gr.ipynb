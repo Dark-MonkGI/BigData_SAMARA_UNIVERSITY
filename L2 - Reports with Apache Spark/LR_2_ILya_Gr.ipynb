{
 "cells": [
  {
   "cell_type": "markdown",
   "id": "3ecdf968-9449-4aa0-84e2-e2188757b9d2",
   "metadata": {},
   "source": [
    "### Лабораторная 2. Формирование отчётов в Apache Spark <br>\n",
    "\n",
    "#### Задание: <br>\n",
    "\n",
    "> Сформировать отчёт с информацией о 10 наиболее популярных языках программирования по итогам года за период с 2010 по 2020 годы. Отчёт будет отражать динамику изменения популярности языков программирования и представлять собой набор таблиц \"топ-10\" для каждого года. <br>\n",
    "Получившийся отчёт сохранить в формате Apache Parquet.\n",
    "Для выполнения задания вы можете использовать любую комбинацию Spark API: RDD API, Dataset API, SQL API.\n",
    "\n",
    "\n",
    "\n",
    "\n"
   ]
  },
  {
   "cell_type": "code",
   "execution_count": 2,
   "id": "01fc66e4-7ea4-457f-a944-80f81c47f7f8",
   "metadata": {},
   "outputs": [
    {
     "name": "stdout",
     "output_type": "stream",
     "text": [
      "Defaulting to user installation because normal site-packages is not writeable\n",
      "Collecting pandas\n",
      "  Downloading pandas-1.3.5-cp39-cp39-manylinux_2_17_x86_64.manylinux2014_x86_64.whl (11.5 MB)\n",
      "\u001b[K     |████████████████████████████████| 11.5 MB 1.2 MB/s eta 0:00:01\n",
      "\u001b[?25hRequirement already satisfied: pytz>=2017.3 in /opt/miniconda3/lib/python3.9/site-packages (from pandas) (2021.3)\n",
      "Requirement already satisfied: numpy>=1.17.3 in ./.local/lib/python3.9/site-packages (from pandas) (1.22.0)\n",
      "Requirement already satisfied: python-dateutil>=2.7.3 in /opt/miniconda3/lib/python3.9/site-packages (from pandas) (2.8.2)\n",
      "Requirement already satisfied: six>=1.5 in /opt/miniconda3/lib/python3.9/site-packages (from python-dateutil>=2.7.3->pandas) (1.16.0)\n",
      "Installing collected packages: pandas\n",
      "Successfully installed pandas-1.3.5\n",
      "Note: you may need to restart the kernel to use updated packages.\n"
     ]
    }
   ],
   "source": [
    "pip install pandas"
   ]
  },
  {
   "cell_type": "code",
   "execution_count": 3,
   "id": "1884e4ce-1922-4636-8124-64af5f2a4df4",
   "metadata": {},
   "outputs": [],
   "source": [
    "from pyspark import SparkContext, SparkConf\n",
    "from datetime import datetime\n",
    "from pyspark.sql import SparkSession\n",
    "\n",
    "from typing import NamedTuple\n",
    "import pandas as pd\n",
    "import os\n",
    "import numpy as np"
   ]
  },
  {
   "cell_type": "code",
   "execution_count": 4,
   "id": "9ae8ed39-0546-4b6b-a91d-9415fd451888",
   "metadata": {},
   "outputs": [],
   "source": [
    "os.environ['PYSPARK_SUBMIT_ARGS'] = '--packages com.databricks:spark-xml_2.12:0.14.0 pyspark-shell'"
   ]
  },
  {
   "cell_type": "code",
   "execution_count": 5,
   "id": "e7eb0b62-c379-4e6d-a791-68d93296088d",
   "metadata": {},
   "outputs": [
    {
     "data": {
      "text/html": [
       "\n",
       "            <div>\n",
       "                <p><b>SparkSession - in-memory</b></p>\n",
       "                \n",
       "        <div>\n",
       "            <p><b>SparkContext</b></p>\n",
       "\n",
       "            <p><a href=\"http://n1.maapr.xyz:4041\">Spark UI</a></p>\n",
       "\n",
       "            <dl>\n",
       "              <dt>Version</dt>\n",
       "                <dd><code>v3.1.2.0-eep-800</code></dd>\n",
       "              <dt>Master</dt>\n",
       "                <dd><code>local[*]</code></dd>\n",
       "              <dt>AppName</dt>\n",
       "                <dd><code>Project2</code></dd>\n",
       "            </dl>\n",
       "        </div>\n",
       "        \n",
       "            </div>\n",
       "        "
      ],
      "text/plain": [
       "<pyspark.sql.session.SparkSession at 0x7feb87058580>"
      ]
     },
     "execution_count": 5,
     "metadata": {},
     "output_type": "execute_result"
    }
   ],
   "source": [
    "sc = SparkSession.builder.appName(\"Project2\").master(\"local[*]\").getOrCreate()\n",
    "sc"
   ]
  },
  {
   "cell_type": "code",
   "execution_count": 6,
   "id": "7ca7631b-12f0-4751-857a-91c2cc7c216d",
   "metadata": {},
   "outputs": [],
   "source": [
    "posts_sample = sc.read.format('xml').option('rowTag', 'row').load(\"posts_sample.xml\")"
   ]
  },
  {
   "cell_type": "code",
   "execution_count": 9,
   "id": "fd063cee-78ec-4279-a296-b96a77886912",
   "metadata": {},
   "outputs": [
    {
     "name": "stdout",
     "output_type": "stream",
     "text": [
      "+-----------------+------------+--------------------+-----------+-------------+--------------------+--------------------+--------------+---+--------------------+--------------------+----------------------+-----------------+-----------------+------------+---------+-----------+------+--------------------+--------------------+----------+\n",
      "|_AcceptedAnswerId|_AnswerCount|               _Body|_ClosedDate|_CommentCount| _CommunityOwnedDate|       _CreationDate|_FavoriteCount|_Id|   _LastActivityDate|       _LastEditDate|_LastEditorDisplayName|_LastEditorUserId|_OwnerDisplayName|_OwnerUserId|_ParentId|_PostTypeId|_Score|               _Tags|              _Title|_ViewCount|\n",
      "+-----------------+------------+--------------------+-----------+-------------+--------------------+--------------------+--------------+---+--------------------+--------------------+----------------------+-----------------+-----------------+------------+---------+-----------+------+--------------------+--------------------+----------+\n",
      "|                7|          13|<p>I want to use ...|       null|            2|2012-10-31 20:42:...|2008-08-01 02:42:...|            48|  4|2019-07-19 05:39:...|2019-07-19 05:39:...|                Rich B|          3641067|             null|           8|     null|          1|   630|<c#><floating-poi...|Convert Decimal t...|     42817|\n",
      "+-----------------+------------+--------------------+-----------+-------------+--------------------+--------------------+--------------+---+--------------------+--------------------+----------------------+-----------------+-----------------+------------+---------+-----------+------+--------------------+--------------------+----------+\n",
      "only showing top 1 row\n",
      "\n"
     ]
    }
   ],
   "source": [
    "posts_sample.show(1)"
   ]
  },
  {
   "cell_type": "code",
   "execution_count": 12,
   "id": "78a33b7e-0074-4c42-8a62-7f91a1cab91f",
   "metadata": {},
   "outputs": [],
   "source": [
    "rdd_posts_sample = posts_sample.rdd # Смена типизации "
   ]
  },
  {
   "cell_type": "code",
   "execution_count": 13,
   "id": "2527db93-3a1d-4cd9-8f14-8eba9c72b93a",
   "metadata": {},
   "outputs": [],
   "source": [
    "# Ограничиваем выборку 2010 < X < 2020\n",
    "\n",
    "posts_sample_period = rdd_posts_sample.filter(lambda row: (2009 < row._CreationDate.year) and (row._CreationDate.year < 2021))"
   ]
  },
  {
   "cell_type": "code",
   "execution_count": 16,
   "id": "70cd75e7-cc50-4622-a941-32aafaa05917",
   "metadata": {},
   "outputs": [
    {
     "data": {
      "text/plain": [
       "[Row(_AcceptedAnswerId=None, _AnswerCount=None, _Body='<p>No. (And more stuff to round this up to 15 characters...)</p>\\n', _ClosedDate=None, _CommentCount=6, _CommunityOwnedDate=None, _CreationDate=datetime.datetime(2010, 9, 20, 20, 18, 14, 580000), _FavoriteCount=None, _Id=3753373, _LastActivityDate=datetime.datetime(2010, 9, 20, 20, 18, 14, 580000), _LastEditDate=None, _LastEditorDisplayName=None, _LastEditorUserId=None, _OwnerDisplayName=None, _OwnerUserId=10293, _ParentId=3753364, _PostTypeId=2, _Score=13, _Tags=None, _Title=None, _ViewCount=None)]"
      ]
     },
     "execution_count": 16,
     "metadata": {},
     "output_type": "execute_result"
    }
   ],
   "source": [
    "posts_sample_period.take(1) # Пример выборки "
   ]
  },
  {
   "cell_type": "code",
   "execution_count": 17,
   "id": "aa8cd942-d25a-49a7-86c9-f550d95f935c",
   "metadata": {},
   "outputs": [],
   "source": [
    "# Подтягиваем имена\n",
    "\n",
    "languages_name = sc.read.csv(\"programming-languages.csv\")"
   ]
  },
  {
   "cell_type": "code",
   "execution_count": 18,
   "id": "c60610bf-42ec-4894-b9fa-13abce991b2c",
   "metadata": {},
   "outputs": [
    {
     "data": {
      "text/plain": [
       "[Row(_c0='name', _c1='wikipedia_url'),\n",
       " Row(_c0='A# .NET', _c1='https://en.wikipedia.org/wiki/A_Sharp_(.NET)'),\n",
       " Row(_c0='A# (Axiom)', _c1='https://en.wikipedia.org/wiki/A_Sharp_(Axiom)'),\n",
       " Row(_c0='A-0 System', _c1='https://en.wikipedia.org/wiki/A-0_System'),\n",
       " Row(_c0='A+', _c1='https://en.wikipedia.org/wiki/A%2B_(programming_language)'),\n",
       " Row(_c0='A++', _c1='https://en.wikipedia.org/wiki/A%2B%2B'),\n",
       " Row(_c0='ABAP', _c1='https://en.wikipedia.org/wiki/ABAP'),\n",
       " Row(_c0='ABC', _c1='https://en.wikipedia.org/wiki/ABC_(programming_language)'),\n",
       " Row(_c0='ABC ALGOL', _c1='https://en.wikipedia.org/wiki/ABC_ALGOL'),\n",
       " Row(_c0='ABSET', _c1='https://en.wikipedia.org/wiki/ABSET')]"
      ]
     },
     "execution_count": 18,
     "metadata": {},
     "output_type": "execute_result"
    }
   ],
   "source": [
    "languages_name.take(10)"
   ]
  },
  {
   "cell_type": "code",
   "execution_count": 19,
   "id": "a1b2228d-beef-4a95-9664-38a143a6decc",
   "metadata": {},
   "outputs": [
    {
     "data": {
      "text/plain": [
       "Row(_c0='name', _c1='wikipedia_url')"
      ]
     },
     "execution_count": 19,
     "metadata": {},
     "output_type": "execute_result"
    }
   ],
   "source": [
    "languages_name_header = languages_name.first()\n",
    "languages_name_header"
   ]
  },
  {
   "cell_type": "code",
   "execution_count": 20,
   "id": "01e57b85-87cb-4eef-bc8c-1ac56d0477b8",
   "metadata": {},
   "outputs": [
    {
     "data": {
      "text/plain": [
       "DataFrame[_c0: string, _c1: string]"
      ]
     },
     "execution_count": 20,
     "metadata": {},
     "output_type": "execute_result"
    }
   ],
   "source": [
    "languages_name"
   ]
  },
  {
   "cell_type": "code",
   "execution_count": 24,
   "id": "56471078-309c-4235-a739-58b82c4b3d1e",
   "metadata": {},
   "outputs": [
    {
     "data": {
      "text/plain": [
       "['name',\n",
       " 'A# .NET',\n",
       " 'A# (Axiom)',\n",
       " 'A-0 System',\n",
       " 'A+',\n",
       " 'A++',\n",
       " 'ABAP',\n",
       " 'ABC',\n",
       " 'ABC ALGOL',\n",
       " 'ABSET']"
      ]
     },
     "execution_count": 24,
     "metadata": {},
     "output_type": "execute_result"
    }
   ],
   "source": [
    "# Вытягиваем названия языков\n",
    "names = []\n",
    "for i in languages_name.collect():\n",
    "    names.append(str(i[0]))\n",
    "names[0:10]"
   ]
  },
  {
   "cell_type": "code",
   "execution_count": 25,
   "id": "979fc5d2-4fb5-4d6a-b136-9399d154a9f4",
   "metadata": {},
   "outputs": [
    {
     "data": {
      "text/plain": [
       "700"
      ]
     },
     "execution_count": 25,
     "metadata": {},
     "output_type": "execute_result"
    }
   ],
   "source": [
    "# Кол-во наименований \n",
    "count_langueges = len(names)-1 \n",
    "count_langueges"
   ]
  },
  {
   "cell_type": "code",
   "execution_count": 26,
   "id": "0f0f7419-32c9-440a-b050-f5bf271d8bc2",
   "metadata": {},
   "outputs": [],
   "source": [
    "# В нижний регистр\n",
    "def includes_name(x):\n",
    "    tag = None\n",
    "    for name in names:\n",
    "        n = '<' + name.lower() + '>'\n",
    "        if n in str(x._Tags).lower():\n",
    "            tag = name\n",
    "            break\n",
    "    if tag is None:\n",
    "        tag = 'No'\n",
    "            \n",
    "    return (x[6], tag)"
   ]
  },
  {
   "cell_type": "code",
   "execution_count": 30,
   "id": "0b5d9940-9073-40e5-b8a3-5133827e92f8",
   "metadata": {},
   "outputs": [
    {
     "data": {
      "text/plain": [
       "[(datetime.datetime(2010, 9, 23, 16, 13, 59, 443000), 'Java'),\n",
       " (datetime.datetime(2010, 9, 26, 21, 7, 4, 840000), 'PHP'),\n",
       " (datetime.datetime(2010, 9, 30, 22, 27, 56, 320000), 'Ruby'),\n",
       " (datetime.datetime(2010, 10, 1, 15, 52, 42, 210000), 'C'),\n",
       " (datetime.datetime(2010, 10, 5, 1, 5, 50, 150000), 'PHP')]"
      ]
     },
     "execution_count": 30,
     "metadata": {},
     "output_type": "execute_result"
    }
   ],
   "source": [
    "# Убираем там где \"NO\"\n",
    "period_language = posts_sample_period.map(includes_name).filter(lambda x: x[1] != 'No')\n",
    "period_language.take(5)"
   ]
  },
  {
   "cell_type": "code",
   "execution_count": 31,
   "id": "0abed9d8-4ad9-4cc0-b4af-105a9af192c0",
   "metadata": {},
   "outputs": [],
   "source": [
    "# Кол-во вхождений языка\n",
    "\n",
    "period_language_group = period_language.keyBy(lambda row: (row[0].year,row[1])).aggregateByKey(0, lambda x, y: x + 1, lambda x1, x2: x1 + x2).sortBy(lambda x: x[1], ascending=False)"
   ]
  },
  {
   "cell_type": "code",
   "execution_count": 33,
   "id": "b26c13c6-b50f-47ed-8fb3-30288247f0c7",
   "metadata": {},
   "outputs": [
    {
     "data": {
      "text/plain": [
       "[((2016, 'JavaScript'), 272),\n",
       " ((2015, 'JavaScript'), 270),\n",
       " ((2017, 'JavaScript'), 244),\n",
       " ((2014, 'JavaScript'), 235),\n",
       " ((2014, 'Java'), 228),\n",
       " ((2018, 'Python'), 214),\n",
       " ((2015, 'Java'), 208),\n",
       " ((2017, 'Java'), 204),\n",
       " ((2013, 'JavaScript'), 196),\n",
       " ((2018, 'JavaScript'), 196)]"
      ]
     },
     "execution_count": 33,
     "metadata": {},
     "output_type": "execute_result"
    }
   ],
   "source": [
    "# Результаты группировки\n",
    "\n",
    "\n",
    "period_language_group.take(10)"
   ]
  },
  {
   "cell_type": "code",
   "execution_count": 34,
   "id": "4b4f58eb-9995-446e-9756-a2ad4193e844",
   "metadata": {},
   "outputs": [],
   "source": [
    "# список\n",
    "list_period_language_group = []\n",
    "\n",
    "for row in period_language_group.collect():\n",
    "    list_row = []\n",
    "    for i in row[0]:\n",
    "        list_row.append(i)\n",
    "    list_row.append(row[1])\n",
    "    \n",
    "    list_period_language_group.append([list_row[0], list_row[1], list_row[2]])"
   ]
  },
  {
   "cell_type": "code",
   "execution_count": 35,
   "id": "6aa48494-b0d3-4cc2-8a48-8d4070205680",
   "metadata": {},
   "outputs": [
    {
     "data": {
      "text/plain": [
       "[[2016, 'JavaScript', 272],\n",
       " [2015, 'JavaScript', 270],\n",
       " [2017, 'JavaScript', 244],\n",
       " [2014, 'JavaScript', 235],\n",
       " [2014, 'Java', 228],\n",
       " [2018, 'Python', 214],\n",
       " [2015, 'Java', 208],\n",
       " [2017, 'Java', 204],\n",
       " [2013, 'JavaScript', 196],\n",
       " [2018, 'JavaScript', 196],\n",
       " [2013, 'Java', 191],\n",
       " [2017, 'Python', 185],\n",
       " [2016, 'Java', 179],\n",
       " [2013, 'PHP', 173],\n",
       " [2019, 'Python', 162],\n",
       " [2014, 'PHP', 154],\n",
       " [2015, 'PHP', 147],\n",
       " [2018, 'Java', 145],\n",
       " [2016, 'Python', 141],\n",
       " [2012, 'PHP', 136]]"
      ]
     },
     "execution_count": 35,
     "metadata": {},
     "output_type": "execute_result"
    }
   ],
   "source": [
    "list_period_language_group[0:20]"
   ]
  },
  {
   "cell_type": "code",
   "execution_count": 36,
   "id": "b26f1057-d562-4a3f-839f-2e167b50749d",
   "metadata": {},
   "outputs": [],
   "source": [
    "# топ 10 в в список\n",
    "from pyspark.sql import Row\n",
    "rows = Row('Year','Language','Count')\n",
    "df=sc.createDataFrame([rows(x,y,z) for x,y,z in (list_period_language_group[0:100])])"
   ]
  },
  {
   "cell_type": "code",
   "execution_count": 37,
   "id": "edb8b3b5-cd3e-4c65-8072-daaaf4bf1345",
   "metadata": {},
   "outputs": [
    {
     "name": "stdout",
     "output_type": "stream",
     "text": [
      "+----+----------+-----+\n",
      "|Year|  Language|Count|\n",
      "+----+----------+-----+\n",
      "|2016|JavaScript|  272|\n",
      "|2015|JavaScript|  270|\n",
      "|2017|JavaScript|  244|\n",
      "|2014|JavaScript|  235|\n",
      "|2014|      Java|  228|\n",
      "|2018|    Python|  214|\n",
      "|2015|      Java|  208|\n",
      "|2017|      Java|  204|\n",
      "|2013|JavaScript|  196|\n",
      "|2018|JavaScript|  196|\n",
      "|2013|      Java|  191|\n",
      "|2017|    Python|  185|\n",
      "|2016|      Java|  179|\n",
      "|2013|       PHP|  173|\n",
      "|2019|    Python|  162|\n",
      "|2014|       PHP|  154|\n",
      "|2015|       PHP|  147|\n",
      "|2018|      Java|  145|\n",
      "|2016|    Python|  141|\n",
      "|2012|       PHP|  136|\n",
      "+----+----------+-----+\n",
      "only showing top 20 rows\n",
      "\n"
     ]
    }
   ],
   "source": [
    "df.show()"
   ]
  },
  {
   "cell_type": "code",
   "execution_count": 38,
   "id": "dd2f273b-1def-4944-a6bd-65f721f29d9f",
   "metadata": {},
   "outputs": [
    {
     "name": "stdout",
     "output_type": "stream",
     "text": [
      "2010 Java 52\n",
      "2010 JavaScript 44\n",
      "2010 PHP 42\n",
      "2010 Python 25\n",
      "2010 Objective-C 23\n",
      "2010 C 20\n",
      "2010 Ruby 11\n",
      "2010 Delphi 7\n",
      "2010 AppleScript 3\n",
      "2010 R 3\n",
      "2011 PHP 97\n",
      "2011 Java 92\n",
      "2011 JavaScript 82\n",
      "2011 Python 35\n",
      "2011 Objective-C 33\n",
      "2011 C 24\n",
      "2011 Ruby 17\n",
      "2011 Perl 8\n",
      "2011 Delphi 8\n",
      "2011 Bash 7\n",
      "2012 PHP 136\n",
      "2012 JavaScript 129\n",
      "2012 Java 124\n",
      "2012 Python 65\n",
      "2012 Objective-C 45\n",
      "2012 C 27\n",
      "2012 Ruby 25\n",
      "2012 Bash 9\n",
      "2012 R 9\n",
      "2012 MATLAB 6\n",
      "2013 JavaScript 196\n",
      "2013 Java 191\n",
      "2013 PHP 173\n",
      "2013 Python 87\n",
      "2013 Objective-C 40\n",
      "2013 C 36\n",
      "2013 Ruby 30\n",
      "2013 R 25\n",
      "2013 Bash 11\n",
      "2013 Scala 10\n",
      "2014 JavaScript 235\n",
      "2014 Java 228\n",
      "2014 PHP 154\n",
      "2014 Python 103\n",
      "2014 C 52\n",
      "2014 Objective-C 49\n",
      "2014 R 28\n",
      "2014 Ruby 20\n",
      "2014 MATLAB 16\n",
      "2014 Bash 13\n",
      "2015 JavaScript 270\n",
      "2015 Java 208\n",
      "2015 PHP 147\n",
      "2015 Python 119\n",
      "2015 R 43\n",
      "2015 C 38\n",
      "2015 Objective-C 30\n",
      "2015 Ruby 21\n",
      "2015 MATLAB 16\n",
      "2015 Scala 13\n",
      "2016 JavaScript 272\n",
      "2016 Java 179\n",
      "2016 Python 141\n",
      "2016 PHP 126\n",
      "2016 R 50\n",
      "2016 C 32\n",
      "2016 Ruby 21\n",
      "2016 Bash 16\n",
      "2016 Scala 16\n",
      "2016 MATLAB 15\n",
      "2017 JavaScript 244\n",
      "2017 Java 204\n",
      "2017 Python 185\n",
      "2017 PHP 122\n",
      "2017 R 53\n",
      "2017 C 24\n",
      "2017 Objective-C 19\n",
      "2017 Ruby 16\n",
      "2017 PowerShell 14\n",
      "2017 TypeScript 14\n",
      "2018 Python 214\n",
      "2018 JavaScript 196\n",
      "2018 Java 145\n",
      "2018 PHP 99\n",
      "2018 R 63\n",
      "2018 C 24\n",
      "2018 Scala 22\n",
      "2018 TypeScript 21\n",
      "2018 PowerShell 13\n",
      "2018 Bash 12\n",
      "2019 Python 162\n",
      "2019 JavaScript 131\n",
      "2019 Java 95\n",
      "2019 PHP 59\n",
      "2019 R 36\n",
      "2019 C 14\n",
      "2019 MATLAB 9\n",
      "2019 Go 9\n",
      "2019 Kotlin 9\n",
      "2019 Dart 9\n"
     ]
    }
   ],
   "source": [
    "# Согласно задания, формируем список из топ- 10 лучших языков, за каждый год\n",
    "perem_year = 2010\n",
    "i = 0\n",
    "count_ = 0\n",
    "list_ = []\n",
    "while perem_year <= 2020:\n",
    "    for perem_ in list_period_language_group:\n",
    "        if perem_year == perem_[0]:\n",
    "            print(perem_[0], perem_[1], perem_[2])\n",
    "            list_.append(perem_)\n",
    "            count_ = count_ + 1\n",
    "            if count_ == 10:\n",
    "                count_ = 0 \n",
    "                break\n",
    "        i = i + 1\n",
    "    perem_year += 1"
   ]
  },
  {
   "cell_type": "code",
   "execution_count": 41,
   "id": "a3c94b28-798d-41a7-9016-a029e62bc304",
   "metadata": {},
   "outputs": [],
   "source": [
    "rows = Row('Year','Language','Count')\n",
    "top_ten_language = sc.createDataFrame([rows(x,y,z) for x,y,z in (list_[0:(len(list_))])])"
   ]
  },
  {
   "cell_type": "code",
   "execution_count": 45,
   "id": "129a79b6-88e6-4fc3-baf3-84cff95204c8",
   "metadata": {},
   "outputs": [
    {
     "name": "stdout",
     "output_type": "stream",
     "text": [
      "+----+-----------+-----+\n",
      "|Year|   Language|Count|\n",
      "+----+-----------+-----+\n",
      "|2010|       Java|   52|\n",
      "|2010| JavaScript|   44|\n",
      "|2010|        PHP|   42|\n",
      "|2010|     Python|   25|\n",
      "|2010|Objective-C|   23|\n",
      "|2010|          C|   20|\n",
      "|2010|       Ruby|   11|\n",
      "|2010|     Delphi|    7|\n",
      "|2010|AppleScript|    3|\n",
      "|2010|          R|    3|\n",
      "|2011|        PHP|   97|\n",
      "|2011|       Java|   92|\n",
      "|2011| JavaScript|   82|\n",
      "|2011|     Python|   35|\n",
      "|2011|Objective-C|   33|\n",
      "|2011|          C|   24|\n",
      "|2011|       Ruby|   17|\n",
      "|2011|       Perl|    8|\n",
      "|2011|     Delphi|    8|\n",
      "|2011|       Bash|    7|\n",
      "|2012|        PHP|  136|\n",
      "|2012| JavaScript|  129|\n",
      "|2012|       Java|  124|\n",
      "|2012|     Python|   65|\n",
      "|2012|Objective-C|   45|\n",
      "|2012|          C|   27|\n",
      "|2012|       Ruby|   25|\n",
      "|2012|       Bash|    9|\n",
      "|2012|          R|    9|\n",
      "|2012|     MATLAB|    6|\n",
      "|2013| JavaScript|  196|\n",
      "|2013|       Java|  191|\n",
      "|2013|        PHP|  173|\n",
      "|2013|     Python|   87|\n",
      "|2013|Objective-C|   40|\n",
      "|2013|          C|   36|\n",
      "|2013|       Ruby|   30|\n",
      "|2013|          R|   25|\n",
      "|2013|       Bash|   11|\n",
      "|2013|      Scala|   10|\n",
      "|2014| JavaScript|  235|\n",
      "|2014|       Java|  228|\n",
      "|2014|        PHP|  154|\n",
      "|2014|     Python|  103|\n",
      "|2014|          C|   52|\n",
      "|2014|Objective-C|   49|\n",
      "|2014|          R|   28|\n",
      "|2014|       Ruby|   20|\n",
      "|2014|     MATLAB|   16|\n",
      "|2014|       Bash|   13|\n",
      "|2015| JavaScript|  270|\n",
      "|2015|       Java|  208|\n",
      "|2015|        PHP|  147|\n",
      "|2015|     Python|  119|\n",
      "|2015|          R|   43|\n",
      "|2015|          C|   38|\n",
      "|2015|Objective-C|   30|\n",
      "|2015|       Ruby|   21|\n",
      "|2015|     MATLAB|   16|\n",
      "|2015|      Scala|   13|\n",
      "|2016| JavaScript|  272|\n",
      "|2016|       Java|  179|\n",
      "|2016|     Python|  141|\n",
      "|2016|        PHP|  126|\n",
      "|2016|          R|   50|\n",
      "|2016|          C|   32|\n",
      "|2016|       Ruby|   21|\n",
      "|2016|       Bash|   16|\n",
      "|2016|      Scala|   16|\n",
      "|2016|     MATLAB|   15|\n",
      "|2017| JavaScript|  244|\n",
      "|2017|       Java|  204|\n",
      "|2017|     Python|  185|\n",
      "|2017|        PHP|  122|\n",
      "|2017|          R|   53|\n",
      "|2017|          C|   24|\n",
      "|2017|Objective-C|   19|\n",
      "|2017|       Ruby|   16|\n",
      "|2017| PowerShell|   14|\n",
      "|2017| TypeScript|   14|\n",
      "|2018|     Python|  214|\n",
      "|2018| JavaScript|  196|\n",
      "|2018|       Java|  145|\n",
      "|2018|        PHP|   99|\n",
      "|2018|          R|   63|\n",
      "|2018|          C|   24|\n",
      "|2018|      Scala|   22|\n",
      "|2018| TypeScript|   21|\n",
      "|2018| PowerShell|   13|\n",
      "|2018|       Bash|   12|\n",
      "|2019|     Python|  162|\n",
      "|2019| JavaScript|  131|\n",
      "|2019|       Java|   95|\n",
      "|2019|        PHP|   59|\n",
      "|2019|          R|   36|\n",
      "|2019|          C|   14|\n",
      "|2019|     MATLAB|    9|\n",
      "|2019|         Go|    9|\n",
      "|2019|     Kotlin|    9|\n",
      "|2019|       Dart|    9|\n",
      "+----+-----------+-----+\n",
      "\n"
     ]
    }
   ],
   "source": [
    "# Результат:\n",
    "top_ten_language.show(len(list_))"
   ]
  },
  {
   "cell_type": "code",
   "execution_count": 46,
   "id": "a8af6341-856e-466c-8534-7a613e8fd7e3",
   "metadata": {},
   "outputs": [],
   "source": [
    "# Получившийся отчёт сохранить в формате Apache Parquet\n",
    "top_ten_language.write.parquet(\"top_ten_language.parquet\")"
   ]
  },
  {
   "cell_type": "code",
   "execution_count": null,
   "id": "b1c0dc80-b736-4765-86b6-9a5930e71bfc",
   "metadata": {},
   "outputs": [],
   "source": []
  },
  {
   "cell_type": "code",
   "execution_count": null,
   "id": "c420463f-9c0a-437d-b435-72f5344a7005",
   "metadata": {},
   "outputs": [],
   "source": []
  },
  {
   "cell_type": "code",
   "execution_count": null,
   "id": "9d4884e3-2b9d-4009-981f-d7a2fc8d83a9",
   "metadata": {},
   "outputs": [],
   "source": []
  },
  {
   "cell_type": "code",
   "execution_count": null,
   "id": "de920305-06a7-4ebc-8eef-a1a9b22df13b",
   "metadata": {},
   "outputs": [],
   "source": []
  }
 ],
 "metadata": {
  "kernelspec": {
   "display_name": "Python 3",
   "language": "python",
   "name": "python3"
  },
  "language_info": {
   "codemirror_mode": {
    "name": "ipython",
    "version": 3
   },
   "file_extension": ".py",
   "mimetype": "text/x-python",
   "name": "python",
   "nbconvert_exporter": "python",
   "pygments_lexer": "ipython3",
   "version": "3.9.5"
  }
 },
 "nbformat": 4,
 "nbformat_minor": 5
}
