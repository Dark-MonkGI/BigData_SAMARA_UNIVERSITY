{
 "cells": [
  {
   "cell_type": "markdown",
   "id": "5a8a780d-ee71-45f4-a01a-40fc053d3252",
   "metadata": {},
   "source": [
    "## Лабораторная работа №1 <br>\n",
    "\n",
    "### Цель работы: <br>\n",
    "\n",
    "- изучить операции загрузки и выгрузки данных в HDFS, <br>\n",
    "- ознакомиться с базовыми операциями Apache Spark в spark-shell, <br>\n",
    "- создать проект по обработке данных в IDE, <br>\n",
    "- отладить анализ данных велопарковок на локальном компьютере, <br>\n",
    "- запустить анализ данных велопарковок на сервере. <br>\n",
    "\n",
    "Задача: <br>\n",
    "Для данных велопарковок Сан-Франциско:<br>\n",
    " 1. Найти велосипед с максимальным временем пробега.<br>\n",
    " 2. Найти наибольшее геодезическое расстояние между станциями.<br>\n",
    " 3. Найти путь велосипеда с максимальным временем пробега через станции.<br>\n",
    " 4. Найти количество велосипедов в системе.<br>\n",
    " 5. Найти пользователей потративших на поездки более 3 часов.<br>"
   ]
  },
  {
   "cell_type": "code",
   "execution_count": 1,
   "id": "dc064337-dcf6-4098-b1c7-c03907a19931",
   "metadata": {},
   "outputs": [
    {
     "name": "stdout",
     "output_type": "stream",
     "text": [
      "Defaulting to user installation because normal site-packages is not writeable\n",
      "Requirement already satisfied: pyspark in ./.local/lib/python3.9/site-packages (3.2.0)\n",
      "Requirement already satisfied: py4j==0.10.9.2 in ./.local/lib/python3.9/site-packages (from pyspark) (0.10.9.2)\n",
      "Note: you may need to restart the kernel to use updated packages.\n"
     ]
    }
   ],
   "source": [
    "pip install pyspark"
   ]
  },
  {
   "cell_type": "code",
   "execution_count": 2,
   "id": "9e2bda75-8875-4823-8351-ac1fa8b04e30",
   "metadata": {},
   "outputs": [
    {
     "name": "stdout",
     "output_type": "stream",
     "text": [
      "Defaulting to user installation because normal site-packages is not writeable\n",
      "Requirement already satisfied: numpy in ./.local/lib/python3.9/site-packages (1.22.0)\n",
      "Note: you may need to restart the kernel to use updated packages.\n"
     ]
    }
   ],
   "source": [
    "pip install numpy"
   ]
  },
  {
   "cell_type": "code",
   "execution_count": 3,
   "id": "f990c2c2-5822-478e-8789-bedd164791d4",
   "metadata": {},
   "outputs": [],
   "source": [
    "from pyspark import SparkContext, SparkConf\n",
    "\n",
    "from typing import NamedTuple\n",
    "from datetime import datetime\n",
    "import numpy as np\n",
    "conf = SparkConf().setAppName(\"Lab1_Script\").setMaster('yarn')"
   ]
  },
  {
   "cell_type": "code",
   "execution_count": 4,
   "id": "af5840af-84e5-4bda-aefa-6aa32132737d",
   "metadata": {},
   "outputs": [],
   "source": [
    "sc = SparkContext(conf=conf)"
   ]
  },
  {
   "cell_type": "code",
   "execution_count": 5,
   "id": "931e259c-4522-4af2-8595-3916b2ab842d",
   "metadata": {},
   "outputs": [],
   "source": [
    "from pyspark.sql import SparkSession \n",
    "spark = SparkSession(sc) \n",
    "trip_df = spark.read.csv(\"trips.csv\") "
   ]
  },
  {
   "cell_type": "code",
   "execution_count": 6,
   "id": "f1c0e606-52e8-4205-9218-c88318d29908",
   "metadata": {},
   "outputs": [
    {
     "data": {
      "text/plain": [
       "DataFrame[id: int, duration: int, start_date: timestamp, start_station_name: string, start_station_id: int, end_date: timestamp, end_station_name: string, end_station_id: int, bike_id: int, subscription_type: string, zip_code: string]"
      ]
     },
     "execution_count": 6,
     "metadata": {},
     "output_type": "execute_result"
    }
   ],
   "source": [
    "tripData = spark.read\\\n",
    ".option(\"header\", True)\\\n",
    ".option(\"inferSchema\", True)\\\n",
    ".option(\"timestampFormat\", 'M/d/y H:m')\\\n",
    ".csv(\"trips.csv\")\n",
    "\n",
    "tripData"
   ]
  },
  {
   "cell_type": "code",
   "execution_count": 7,
   "id": "bc7a3241-6903-4ef6-92d9-2e9c4ddcf742",
   "metadata": {},
   "outputs": [
    {
     "name": "stdout",
     "output_type": "stream",
     "text": [
      "root\n",
      " |-- id: integer (nullable = true)\n",
      " |-- duration: integer (nullable = true)\n",
      " |-- start_date: timestamp (nullable = true)\n",
      " |-- start_station_name: string (nullable = true)\n",
      " |-- start_station_id: integer (nullable = true)\n",
      " |-- end_date: timestamp (nullable = true)\n",
      " |-- end_station_name: string (nullable = true)\n",
      " |-- end_station_id: integer (nullable = true)\n",
      " |-- bike_id: integer (nullable = true)\n",
      " |-- subscription_type: string (nullable = true)\n",
      " |-- zip_code: string (nullable = true)\n",
      "\n"
     ]
    }
   ],
   "source": [
    "tripData.printSchema()"
   ]
  },
  {
   "cell_type": "code",
   "execution_count": 8,
   "id": "1794b4e4-51b4-4f78-8523-2a9e0a24bce6",
   "metadata": {},
   "outputs": [
    {
     "name": "stdout",
     "output_type": "stream",
     "text": [
      "+----+--------+-------------------+--------------------+----------------+-------------------+--------------------+--------------+-------+-----------------+--------+\n",
      "|  id|duration|         start_date|  start_station_name|start_station_id|           end_date|    end_station_name|end_station_id|bike_id|subscription_type|zip_code|\n",
      "+----+--------+-------------------+--------------------+----------------+-------------------+--------------------+--------------+-------+-----------------+--------+\n",
      "|4576|      63|               null|South Van Ness at...|              66|2013-08-29 14:14:00|South Van Ness at...|            66|    520|       Subscriber|   94127|\n",
      "|4607|    null|2013-08-29 14:42:00|  San Jose City Hall|              10|2013-08-29 14:43:00|  San Jose City Hall|            10|    661|       Subscriber|   95138|\n",
      "|4130|      71|2013-08-29 10:16:00|Mountain View Cit...|              27|2013-08-29 10:17:00|Mountain View Cit...|            27|     48|       Subscriber|   97214|\n",
      "|4251|      77|2013-08-29 11:29:00|  San Jose City Hall|              10|2013-08-29 11:30:00|  San Jose City Hall|            10|     26|       Subscriber|   95060|\n",
      "|4299|      83|2013-08-29 12:02:00|South Van Ness at...|              66|2013-08-29 12:04:00|      Market at 10th|            67|    319|       Subscriber|   94103|\n",
      "|4927|     103|2013-08-29 18:54:00| Golden Gate at Polk|              59|2013-08-29 18:56:00| Golden Gate at Polk|            59|    527|       Subscriber|   94109|\n",
      "|4500|     109|2013-08-29 13:25:00|Santa Clara at Al...|               4|2013-08-29 13:27:00|    Adobe on Almaden|             5|    679|       Subscriber|   95112|\n",
      "|4563|     111|2013-08-29 14:02:00| San Salvador at 1st|               8|2013-08-29 14:04:00| San Salvador at 1st|             8|    687|       Subscriber|   95112|\n",
      "|4760|     113|2013-08-29 17:01:00|South Van Ness at...|              66|2013-08-29 17:03:00|South Van Ness at...|            66|    553|       Subscriber|   94103|\n",
      "|4258|     114|2013-08-29 11:33:00|  San Jose City Hall|              10|2013-08-29 11:35:00|         MLK Library|            11|    107|       Subscriber|   95060|\n",
      "+----+--------+-------------------+--------------------+----------------+-------------------+--------------------+--------------+-------+-----------------+--------+\n",
      "only showing top 10 rows\n",
      "\n"
     ]
    }
   ],
   "source": [
    "tripData.show(n=10)"
   ]
  },
  {
   "cell_type": "code",
   "execution_count": 9,
   "id": "b5760d95-92db-4ecb-a3a7-e50fa26e3c96",
   "metadata": {},
   "outputs": [
    {
     "data": {
      "text/plain": [
       "\u001b[0;31mSignature:\u001b[0m  \u001b[0mtripData\u001b[0m\u001b[0;34m.\u001b[0m\u001b[0mdropna\u001b[0m\u001b[0;34m(\u001b[0m\u001b[0mhow\u001b[0m\u001b[0;34m=\u001b[0m\u001b[0;34m'any'\u001b[0m\u001b[0;34m,\u001b[0m \u001b[0mthresh\u001b[0m\u001b[0;34m=\u001b[0m\u001b[0;32mNone\u001b[0m\u001b[0;34m,\u001b[0m \u001b[0msubset\u001b[0m\u001b[0;34m=\u001b[0m\u001b[0;32mNone\u001b[0m\u001b[0;34m)\u001b[0m\u001b[0;34m\u001b[0m\u001b[0;34m\u001b[0m\u001b[0m\n",
       "\u001b[0;31mDocstring:\u001b[0m\n",
       "Returns a new :class:`DataFrame` omitting rows with null values.\n",
       ":func:`DataFrame.dropna` and :func:`DataFrameNaFunctions.drop` are aliases of each other.\n",
       "\n",
       ".. versionadded:: 1.3.1\n",
       "\n",
       "Parameters\n",
       "----------\n",
       "how : str, optional\n",
       "    'any' or 'all'.\n",
       "    If 'any', drop a row if it contains any nulls.\n",
       "    If 'all', drop a row only if all its values are null.\n",
       "thresh: int, optional\n",
       "    default None\n",
       "    If specified, drop rows that have less than `thresh` non-null values.\n",
       "    This overwrites the `how` parameter.\n",
       "subset : str, tuple or list, optional\n",
       "    optional list of column names to consider.\n",
       "\n",
       "Examples\n",
       "--------\n",
       ">>> df4.na.drop().show()\n",
       "+---+------+-----+\n",
       "|age|height| name|\n",
       "+---+------+-----+\n",
       "| 10|    80|Alice|\n",
       "+---+------+-----+\n",
       "\u001b[0;31mFile:\u001b[0m      ~/.local/lib/python3.9/site-packages/pyspark/sql/dataframe.py\n",
       "\u001b[0;31mType:\u001b[0m      method\n"
      ]
     },
     "metadata": {},
     "output_type": "display_data"
    }
   ],
   "source": [
    "? tripData.dropna"
   ]
  },
  {
   "cell_type": "code",
   "execution_count": 10,
   "id": "de994591-1ff4-4c2f-81d3-8e6cf525ee85",
   "metadata": {},
   "outputs": [
    {
     "name": "stdout",
     "output_type": "stream",
     "text": [
      "+----+--------+-------------------+--------------------+----------------+-------------------+--------------------+--------------+-------+-----------------+--------+\n",
      "|  id|duration|         start_date|  start_station_name|start_station_id|           end_date|    end_station_name|end_station_id|bike_id|subscription_type|zip_code|\n",
      "+----+--------+-------------------+--------------------+----------------+-------------------+--------------------+--------------+-------+-----------------+--------+\n",
      "|4130|      71|2013-08-29 10:16:00|Mountain View Cit...|              27|2013-08-29 10:17:00|Mountain View Cit...|            27|     48|       Subscriber|   97214|\n",
      "|4251|      77|2013-08-29 11:29:00|  San Jose City Hall|              10|2013-08-29 11:30:00|  San Jose City Hall|            10|     26|       Subscriber|   95060|\n",
      "|4299|      83|2013-08-29 12:02:00|South Van Ness at...|              66|2013-08-29 12:04:00|      Market at 10th|            67|    319|       Subscriber|   94103|\n",
      "|4927|     103|2013-08-29 18:54:00| Golden Gate at Polk|              59|2013-08-29 18:56:00| Golden Gate at Polk|            59|    527|       Subscriber|   94109|\n",
      "|4500|     109|2013-08-29 13:25:00|Santa Clara at Al...|               4|2013-08-29 13:27:00|    Adobe on Almaden|             5|    679|       Subscriber|   95112|\n",
      "|4563|     111|2013-08-29 14:02:00| San Salvador at 1st|               8|2013-08-29 14:04:00| San Salvador at 1st|             8|    687|       Subscriber|   95112|\n",
      "|4760|     113|2013-08-29 17:01:00|South Van Ness at...|              66|2013-08-29 17:03:00|South Van Ness at...|            66|    553|       Subscriber|   94103|\n",
      "|4258|     114|2013-08-29 11:33:00|  San Jose City Hall|              10|2013-08-29 11:35:00|         MLK Library|            11|    107|       Subscriber|   95060|\n",
      "|4549|     125|2013-08-29 13:52:00|     Spear at Folsom|              49|2013-08-29 13:55:00|Embarcadero at Br...|            54|    368|       Subscriber|   94109|\n",
      "|4498|     126|2013-08-29 13:23:00|    San Pedro Square|               6|2013-08-29 13:25:00|Santa Clara at Al...|             4|     26|       Subscriber|   95112|\n",
      "+----+--------+-------------------+--------------------+----------------+-------------------+--------------------+--------------+-------+-----------------+--------+\n",
      "only showing top 10 rows\n",
      "\n"
     ]
    }
   ],
   "source": [
    "tripData.dropna().show(n=10)"
   ]
  },
  {
   "cell_type": "code",
   "execution_count": 11,
   "id": "a367a16a-a6a5-46f9-9cfe-e6e60043032a",
   "metadata": {},
   "outputs": [
    {
     "name": "stdout",
     "output_type": "stream",
     "text": [
      "+-------+------------------+------------------+--------------------+------------------+--------------------+------------------+------------------+-----------------+-------------------+\n",
      "|summary|                id|          duration|  start_station_name|  start_station_id|    end_station_name|    end_station_id|           bike_id|subscription_type|           zip_code|\n",
      "+-------+------------------+------------------+--------------------+------------------+--------------------+------------------+------------------+-----------------+-------------------+\n",
      "|  count|            985352|            985351|              985352|            985352|              985352|            985352|            985352|           985352|             978484|\n",
      "|   mean|521401.35102481145|1092.1337716204682|                null|58.060558054380564|                null|58.043319544690625|426.07050779822845|             null|  2008421.845039644|\n",
      "| stddev| 245889.2855318234| 25689.80328664839|                null|16.998928220336474|                null| 17.10456379871572| 155.4614377036669|             null|1.243190730418017E9|\n",
      "|    min|              4069|                60|       2nd at Folsom|                 2|       2nd at Folsom|                 2|                 9|         Customer|                  0|\n",
      "|    max|            913460|          17270400|Yerba Buena Cente...|                84|Yerba Buena Cente...|                84|               878|       Subscriber|              v6z2x|\n",
      "+-------+------------------+------------------+--------------------+------------------+--------------------+------------------+------------------+-----------------+-------------------+\n",
      "\n"
     ]
    }
   ],
   "source": [
    "tripData.describe().show()"
   ]
  },
  {
   "cell_type": "code",
   "execution_count": 12,
   "id": "4968ea10-f76a-49f7-bfd1-0edbfd1e57ff",
   "metadata": {},
   "outputs": [
    {
     "name": "stdout",
     "output_type": "stream",
     "text": [
      "root\n",
      " |-- id: integer (nullable = true)\n",
      " |-- name: string (nullable = true)\n",
      " |-- lat: double (nullable = true)\n",
      " |-- long: double (nullable = true)\n",
      " |-- dock_count: integer (nullable = true)\n",
      " |-- city: string (nullable = true)\n",
      " |-- installation_date: timestamp (nullable = true)\n",
      "\n"
     ]
    }
   ],
   "source": [
    "stationData = spark.read\\\n",
    ".option(\"header\", True)\\\n",
    ".option(\"inferSchema\", True)\\\n",
    ".option(\"timestampFormat\", 'M/d/y')\\\n",
    ".csv(\"stations.csv\")\n",
    "\n",
    "stationData.printSchema()"
   ]
  },
  {
   "cell_type": "code",
   "execution_count": 13,
   "id": "77fc78a8-aabc-4b9b-af60-c3e6b3af593b",
   "metadata": {},
   "outputs": [
    {
     "name": "stdout",
     "output_type": "stream",
     "text": [
      "+---+--------------------+------------------+-------------------+----------+--------+-------------------+\n",
      "| id|                name|               lat|               long|dock_count|    city|  installation_date|\n",
      "+---+--------------------+------------------+-------------------+----------+--------+-------------------+\n",
      "|  2|San Jose Diridon ...|         37.329732|-121.90178200000001|        27|San Jose|2013-08-06 00:00:00|\n",
      "|  3|San Jose Civic Ce...|         37.330698|        -121.888979|        15|San Jose|2013-08-05 00:00:00|\n",
      "|  4|Santa Clara at Al...|         37.333988|        -121.894902|        11|San Jose|2013-08-06 00:00:00|\n",
      "|  5|    Adobe on Almaden|         37.331415|          -121.8932|        19|San Jose|2013-08-05 00:00:00|\n",
      "|  6|    San Pedro Square|37.336721000000004|        -121.894074|        15|San Jose|2013-08-07 00:00:00|\n",
      "+---+--------------------+------------------+-------------------+----------+--------+-------------------+\n",
      "only showing top 5 rows\n",
      "\n"
     ]
    }
   ],
   "source": [
    "stationData.show(n=5)"
   ]
  },
  {
   "cell_type": "code",
   "execution_count": 14,
   "id": "a4ec1ac3-fd0d-41d8-8c77-e13197c2d89f",
   "metadata": {},
   "outputs": [
    {
     "name": "stdout",
     "output_type": "stream",
     "text": [
      "+-------+------------------+--------------------+-------------------+-------------------+-----------------+-------------+\n",
      "|summary|                id|                name|                lat|               long|       dock_count|         city|\n",
      "+-------+------------------+--------------------+-------------------+-------------------+-----------------+-------------+\n",
      "|  count|                70|                  70|                 70|                 70|               70|           70|\n",
      "|   mean|              43.0|                null|  37.59024338428572|-122.21841616428571|17.65714285714286|         null|\n",
      "| stddev|24.166091947189145|                null|0.20347253639672502|0.20944604979644524|4.010441857493954|         null|\n",
      "|    min|                 2|       2nd at Folsom|          37.329732|        -122.418954|               11|Mountain View|\n",
      "|    max|                84|Yerba Buena Cente...|           37.80477|        -121.877349|               27|     San Jose|\n",
      "+-------+------------------+--------------------+-------------------+-------------------+-----------------+-------------+\n",
      "\n"
     ]
    }
   ],
   "source": [
    "stationData.describe().show()"
   ]
  },
  {
   "cell_type": "code",
   "execution_count": 15,
   "id": "60bc5965-9335-4f40-95c8-291ba9e74fe8",
   "metadata": {},
   "outputs": [
    {
     "name": "stdout",
     "output_type": "stream",
     "text": [
      "root\n",
      " |-- id: integer (nullable = true)\n",
      " |-- duration: integer (nullable = true)\n",
      " |-- start_date: timestamp (nullable = true)\n",
      " |-- start_station_name: string (nullable = true)\n",
      " |-- start_station_id: integer (nullable = true)\n",
      " |-- end_date: timestamp (nullable = true)\n",
      " |-- end_station_name: string (nullable = true)\n",
      " |-- end_station_id: integer (nullable = true)\n",
      " |-- bike_id: integer (nullable = true)\n",
      " |-- subscription_type: string (nullable = true)\n",
      " |-- zip_code: string (nullable = true)\n",
      "\n",
      "root\n",
      " |-- id: integer (nullable = true)\n",
      " |-- name: string (nullable = true)\n",
      " |-- lat: double (nullable = true)\n",
      " |-- long: double (nullable = true)\n",
      " |-- dock_count: integer (nullable = true)\n",
      " |-- city: string (nullable = true)\n",
      " |-- installation_date: timestamp (nullable = true)\n",
      "\n"
     ]
    }
   ],
   "source": [
    "tripData.printSchema()\n",
    "stationData.printSchema()"
   ]
  },
  {
   "cell_type": "code",
   "execution_count": 16,
   "id": "95c2237f-3e36-47ed-b743-945504be064e",
   "metadata": {},
   "outputs": [
    {
     "name": "stdout",
     "output_type": "stream",
     "text": [
      "+---+--------------------+------------------+-------------------+\n",
      "| id|                name|               lat|               long|\n",
      "+---+--------------------+------------------+-------------------+\n",
      "|  2|San Jose Diridon ...|         37.329732|-121.90178200000001|\n",
      "|  3|San Jose Civic Ce...|         37.330698|        -121.888979|\n",
      "|  4|Santa Clara at Al...|         37.333988|        -121.894902|\n",
      "|  5|    Adobe on Almaden|         37.331415|          -121.8932|\n",
      "|  6|    San Pedro Square|37.336721000000004|        -121.894074|\n",
      "|  7|Paseo de San Antonio|         37.333798|-121.88694299999999|\n",
      "|  8| San Salvador at 1st|         37.330165|-121.88583100000001|\n",
      "|  9|           Japantown|         37.348742|-121.89471499999999|\n",
      "| 10|  San Jose City Hall|         37.337391|        -121.886995|\n",
      "| 11|         MLK Library|         37.335885|-121.88566000000002|\n",
      "| 12|SJSU 4th at San C...|         37.332808|-121.88389099999999|\n",
      "| 13|       St James Park|         37.339301|-121.88993700000002|\n",
      "| 14|Arena Green / SAP...|         37.332692|        -121.900084|\n",
      "| 16|SJSU - San Salvad...|37.333954999999996|        -121.877349|\n",
      "| 21|   Franklin at Maple|         37.481758|        -122.226904|\n",
      "| 22|Redwood City Calt...|37.486078000000006|-122.23208899999999|\n",
      "| 23|San Mateo County ...|37.487615999999996|        -122.229951|\n",
      "| 24|Redwood City Publ...|         37.484219|        -122.227424|\n",
      "| 25|Stanford in Redwo...|          37.48537|-122.20328799999999|\n",
      "| 26|Redwood City Medi...|         37.487682|        -122.223492|\n",
      "+---+--------------------+------------------+-------------------+\n",
      "only showing top 20 rows\n",
      "\n"
     ]
    }
   ],
   "source": [
    "stationsView = stationData.select(stationData['id'], stationData['name'], stationData['lat'], stationData['long'])\n",
    "stationsView.show()"
   ]
  },
  {
   "cell_type": "code",
   "execution_count": 17,
   "id": "2184fe19-1b6b-484e-bcaf-bd41fe16979c",
   "metadata": {},
   "outputs": [],
   "source": [
    "startTrips = tripData.select(tripData.id, tripData.duration, tripData.start_station_id).withColumnRenamed('id', 'trip_id').join(stationsView, tripData.start_station_id == stationsView.id)\n",
    "startTrips = startTrips.drop('id')"
   ]
  },
  {
   "cell_type": "code",
   "execution_count": 18,
   "id": "93f71b38-00b4-4b84-a7ab-990b65d3fbe0",
   "metadata": {},
   "outputs": [
    {
     "name": "stdout",
     "output_type": "stream",
     "text": [
      "+-------+--------+----------------+--------------------+------------------+-------------------+\n",
      "|trip_id|duration|start_station_id|                name|               lat|               long|\n",
      "+-------+--------+----------------+--------------------+------------------+-------------------+\n",
      "|   4576|      63|              66|South Van Ness at...|         37.774814|        -122.418954|\n",
      "|   4607|    null|              10|  San Jose City Hall|         37.337391|        -121.886995|\n",
      "|   4130|      71|              27|Mountain View Cit...|         37.389218|        -122.081896|\n",
      "|   4251|      77|              10|  San Jose City Hall|         37.337391|        -121.886995|\n",
      "|   4299|      83|              66|South Van Ness at...|         37.774814|        -122.418954|\n",
      "|   4927|     103|              59| Golden Gate at Polk|         37.781332|        -122.418603|\n",
      "|   4500|     109|               4|Santa Clara at Al...|         37.333988|        -121.894902|\n",
      "|   4563|     111|               8| San Salvador at 1st|         37.330165|-121.88583100000001|\n",
      "|   4760|     113|              66|South Van Ness at...|         37.774814|        -122.418954|\n",
      "|   4258|     114|              10|  San Jose City Hall|         37.337391|        -121.886995|\n",
      "|   4549|     125|              49|     Spear at Folsom|37.790302000000004|-122.39063700000001|\n",
      "|   4498|     126|               6|    San Pedro Square|37.336721000000004|        -121.894074|\n",
      "|   4965|     129|              28|Mountain View Cal...|37.394358000000004|-122.07671299999998|\n",
      "|   4557|     130|              64|   2nd at South Park|         37.782259|        -122.392738|\n",
      "|   4386|     134|              41|     Clay at Battery|         37.795001|         -122.39997|\n",
      "|   4749|     138|              47|     Post at Kearney|         37.788975|        -122.403452|\n",
      "|   4242|     141|              10|  San Jose City Hall|         37.337391|        -121.886995|\n",
      "|   4329|     142|              67|      Market at 10th|37.776619000000004|-122.41738500000001|\n",
      "|   5097|     142|              74|   Steuart at Market|         37.794139|        -122.394434|\n",
      "|   5084|     144|              39|  Powell Street BART|37.783871000000005|        -122.408433|\n",
      "+-------+--------+----------------+--------------------+------------------+-------------------+\n",
      "only showing top 20 rows\n",
      "\n"
     ]
    }
   ],
   "source": [
    "startTrips.show()"
   ]
  },
  {
   "cell_type": "code",
   "execution_count": 19,
   "id": "09bc6666-1b92-48e3-9858-6723c1a131b3",
   "metadata": {},
   "outputs": [
    {
     "name": "stdout",
     "output_type": "stream",
     "text": [
      "root\n",
      " |-- id: integer (nullable = true)\n",
      " |-- duration: integer (nullable = true)\n",
      " |-- start_date: timestamp (nullable = true)\n",
      " |-- start_station_name: string (nullable = true)\n",
      " |-- start_station_id: integer (nullable = true)\n",
      " |-- end_date: timestamp (nullable = true)\n",
      " |-- end_station_name: string (nullable = true)\n",
      " |-- end_station_id: integer (nullable = true)\n",
      " |-- bike_id: integer (nullable = true)\n",
      " |-- subscription_type: string (nullable = true)\n",
      " |-- zip_code: string (nullable = true)\n",
      "\n",
      "root\n",
      " |-- id: integer (nullable = true)\n",
      " |-- name: string (nullable = true)\n",
      " |-- lat: double (nullable = true)\n",
      " |-- long: double (nullable = true)\n",
      " |-- dock_count: integer (nullable = true)\n",
      " |-- city: string (nullable = true)\n",
      " |-- installation_date: timestamp (nullable = true)\n",
      "\n"
     ]
    }
   ],
   "source": [
    "tripData.printSchema()\n",
    "stationData.printSchema()"
   ]
  },
  {
   "cell_type": "code",
   "execution_count": 20,
   "id": "ae8ed6cb-f88f-4100-bc90-3f899bd16289",
   "metadata": {},
   "outputs": [],
   "source": [
    "stationData.createOrReplaceTempView(\"stations\")\n",
    "tripData.createOrReplaceTempView(\"trips\")"
   ]
  },
  {
   "cell_type": "code",
   "execution_count": 21,
   "id": "9e52069b-c1a1-42c3-854d-bb8bf8dda7b8",
   "metadata": {},
   "outputs": [],
   "source": [
    "endTrips = spark.sql(\"\"\"\n",
    "SELECT trips.id as trip_id, trips.end_station_id, trips.duration, stations.name as station_name, stations.lat, stations.long \n",
    "FROM trips INNER JOIN stations \n",
    "    ON trips.end_station_id==stations.id\n",
    "\"\"\")"
   ]
  },
  {
   "cell_type": "code",
   "execution_count": 22,
   "id": "d5690889-3ca1-41a7-8fff-3e7e082b33cf",
   "metadata": {},
   "outputs": [
    {
     "name": "stdout",
     "output_type": "stream",
     "text": [
      "+-------+--------------+--------+--------------------+------------------+-------------------+\n",
      "|trip_id|end_station_id|duration|        station_name|               lat|               long|\n",
      "+-------+--------------+--------+--------------------+------------------+-------------------+\n",
      "|   4576|            66|      63|South Van Ness at...|         37.774814|        -122.418954|\n",
      "|   4607|            10|    null|  San Jose City Hall|         37.337391|        -121.886995|\n",
      "|   4130|            27|      71|Mountain View Cit...|         37.389218|        -122.081896|\n",
      "|   4251|            10|      77|  San Jose City Hall|         37.337391|        -121.886995|\n",
      "|   4299|            67|      83|      Market at 10th|37.776619000000004|-122.41738500000001|\n",
      "|   4927|            59|     103| Golden Gate at Polk|         37.781332|        -122.418603|\n",
      "|   4500|             5|     109|    Adobe on Almaden|         37.331415|          -121.8932|\n",
      "|   4563|             8|     111| San Salvador at 1st|         37.330165|-121.88583100000001|\n",
      "|   4760|            66|     113|South Van Ness at...|         37.774814|        -122.418954|\n",
      "|   4258|            11|     114|         MLK Library|         37.335885|-121.88566000000002|\n",
      "+-------+--------------+--------+--------------------+------------------+-------------------+\n",
      "only showing top 10 rows\n",
      "\n"
     ]
    }
   ],
   "source": [
    "endTrips.show(10)"
   ]
  },
  {
   "cell_type": "code",
   "execution_count": 23,
   "id": "2d2d9206-113d-4f69-a138-570e77fb3bc2",
   "metadata": {},
   "outputs": [],
   "source": [
    "test1 = spark.sql(\"\"\"\n",
    "SELECT start_station_name, avg(duration)\n",
    "FROM trips\n",
    "GROUP BY trips.start_station_name\n",
    "ORDER BY avg(duration) DESC\n",
    "\"\"\")"
   ]
  },
  {
   "cell_type": "code",
   "execution_count": 24,
   "id": "f6d485fc-6e0e-4bf9-afb0-c2374c61c35c",
   "metadata": {},
   "outputs": [],
   "source": [
    "test1_max_val = test1.agg({\"avg(duration)\": \"max\"}).collect()[0]"
   ]
  },
  {
   "cell_type": "code",
   "execution_count": 25,
   "id": "c7373ee9-191f-4af2-82c4-2bc3145f3244",
   "metadata": {},
   "outputs": [
    {
     "data": {
      "text/plain": [
       "Row(max(avg(duration))=7230.231034482758)"
      ]
     },
     "execution_count": 25,
     "metadata": {},
     "output_type": "execute_result"
    }
   ],
   "source": [
    "test1_max_val"
   ]
  },
  {
   "cell_type": "code",
   "execution_count": 26,
   "id": "120e8599-e076-4f75-a78f-017ec03e3fbd",
   "metadata": {},
   "outputs": [
    {
     "name": "stdout",
     "output_type": "stream",
     "text": [
      "+--------------------+------------------+\n",
      "|  start_station_name|     avg(duration)|\n",
      "+--------------------+------------------+\n",
      "|University and Em...| 7230.231034482758|\n",
      "|Redwood City Medi...|  4764.68287037037|\n",
      "|San Jose Civic Ce...| 4720.621422376409|\n",
      "|       Park at Olive| 4686.397612488521|\n",
      "|California Ave Ca...| 4502.620639534884|\n",
      "|Redwood City Publ...|3697.0892307692307|\n",
      "|Rengstorff Avenue...| 3544.797270955166|\n",
      "|Palo Alto Caltrai...| 3158.331498866947|\n",
      "|San Mateo County ...|3002.0827067669175|\n",
      "|South Van Ness at...|2936.8873503613395|\n",
      "|San Antonio Shopp...| 2508.434736091298|\n",
      "|Cowper at University| 2493.220572640509|\n",
      "|    Broadway at Main|2481.2537313432836|\n",
      "|Redwood City Calt...|  2405.29409190372|\n",
      "|           Japantown|2297.0913838120105|\n",
      "|San Antonio Caltr...|2103.7238932071646|\n",
      "|SJSU 4th at San C...| 1995.366021236727|\n",
      "|Washington at Kea...|1979.3077445652175|\n",
      "|          Mezes Park|1918.1354359925788|\n",
      "|Arena Green / SAP...|1888.3390476190475|\n",
      "+--------------------+------------------+\n",
      "only showing top 20 rows\n",
      "\n"
     ]
    }
   ],
   "source": [
    "spark.sql(\"\"\"\n",
    "SELECT start_station_name, avg(duration)\n",
    "FROM trips\n",
    "GROUP BY trips.start_station_name\n",
    "ORDER BY avg(duration) DESC\n",
    "\"\"\").show()"
   ]
  },
  {
   "cell_type": "code",
   "execution_count": 27,
   "id": "1f142c06-eddf-441b-8120-372f497a8cbf",
   "metadata": {},
   "outputs": [
    {
     "name": "stdout",
     "output_type": "stream",
     "text": [
      "+-------+-------------------+-------------------+--------------------+\n",
      "|bike_id|         start_date|           end_date|                name|\n",
      "+-------+-------------------+-------------------+--------------------+\n",
      "|    523|2013-12-25 01:51:00|2013-12-25 02:12:00|       5th at Howard|\n",
      "|    523|2013-12-25 02:14:00|2013-12-25 02:40:00|Mechanics Plaza (...|\n",
      "|    523|2013-12-25 02:50:00|2013-12-25 03:22:00|Embarcadero at Va...|\n",
      "|    523|2013-12-25 03:32:00|2013-12-25 03:52:00|Embarcadero at Sa...|\n",
      "+-------+-------------------+-------------------+--------------------+\n",
      "\n"
     ]
    }
   ],
   "source": [
    "spark.sql(\"\"\"\n",
    "SELECT trips.bike_id, trips.start_date, trips.end_date, stations.name\n",
    "FROM trips INNER JOIN stations\n",
    "    ON trips.start_station_id == stations.id\n",
    "WHERE \n",
    "    bike_id == 523 \n",
    "    AND start_date > make_timestamp(2013, 12, 25, 0, 0, 0) \n",
    "    AND start_date <  make_timestamp(2013, 12, 26, 0, 0, 0)\n",
    "\"\"\").show()"
   ]
  },
  {
   "cell_type": "markdown",
   "id": "120c9560-9e66-40fe-92ea-1f62fa9bdc12",
   "metadata": {},
   "source": [
    "### Task: `Найти велосипед с максимальным временем пробега.`"
   ]
  },
  {
   "cell_type": "code",
   "execution_count": 28,
   "id": "d6f8a8a1-47df-49cc-916b-6fcc3c1fde09",
   "metadata": {},
   "outputs": [
    {
     "name": "stdout",
     "output_type": "stream",
     "text": [
      "+-------+--------+-------------------+-------------------+\n",
      "|bike_id|duration|         start_date|           end_date|\n",
      "+-------+--------+-------------------+-------------------+\n",
      "|    544|     497|2013-12-25 01:41:00|2013-12-25 01:49:00|\n",
      "|    470|    1577|2013-12-25 01:46:00|2013-12-25 02:12:00|\n",
      "|    494|    1409|2013-12-25 01:49:00|2013-12-25 02:12:00|\n",
      "|    523|    1241|2013-12-25 01:51:00|2013-12-25 02:12:00|\n",
      "|    578|    1230|2013-12-25 01:52:00|2013-12-25 02:12:00|\n",
      "|    322|    1134|2013-12-25 01:53:00|2013-12-25 02:12:00|\n",
      "|    480|     888|2013-12-25 01:57:00|2013-12-25 02:12:00|\n",
      "|    470|    1662|2013-12-25 02:13:00|2013-12-25 02:41:00|\n",
      "|    578|    1559|2013-12-25 02:14:00|2013-12-25 02:40:00|\n",
      "|    523|    1560|2013-12-25 02:14:00|2013-12-25 02:40:00|\n",
      "+-------+--------+-------------------+-------------------+\n",
      "only showing top 10 rows\n",
      "\n"
     ]
    }
   ],
   "source": [
    "df_1 = spark.sql(\"\"\"\n",
    "SELECT bike_id, duration, start_date, end_date \n",
    "FROM trips \n",
    "WHERE \n",
    "    start_date > make_timestamp(2013, 12, 25, 0, 0, 0) \n",
    "    AND start_date <  make_timestamp(2013, 12, 26, 0, 0, 0)\n",
    "\"\"\")\n",
    "df_1.show(10)"
   ]
  },
  {
   "cell_type": "code",
   "execution_count": 29,
   "id": "1bb10b87-b377-4d1d-9755-216993998fbf",
   "metadata": {},
   "outputs": [],
   "source": [
    "from pyspark.sql import functions as F"
   ]
  },
  {
   "cell_type": "code",
   "execution_count": 30,
   "id": "399ed395-4502-41d8-9b80-610342eab29f",
   "metadata": {},
   "outputs": [],
   "source": [
    "dfs_time_all = df_1.withColumn('date_travel_hour_minute', F.hour(df_1.end_date)*60 - F.hour(df_1.start_date)*60 + F.minute(df_1.end_date) - F.minute(df_1.start_date))"
   ]
  },
  {
   "cell_type": "code",
   "execution_count": 31,
   "id": "9fc14a06-8ce3-42ab-801c-c663ef78366c",
   "metadata": {},
   "outputs": [
    {
     "name": "stdout",
     "output_type": "stream",
     "text": [
      "+-------+--------+-------------------+-------------------+-----------------------+\n",
      "|bike_id|duration|         start_date|           end_date|date_travel_hour_minute|\n",
      "+-------+--------+-------------------+-------------------+-----------------------+\n",
      "|    544|     497|2013-12-25 01:41:00|2013-12-25 01:49:00|                      8|\n",
      "|    470|    1577|2013-12-25 01:46:00|2013-12-25 02:12:00|                     26|\n",
      "|    494|    1409|2013-12-25 01:49:00|2013-12-25 02:12:00|                     23|\n",
      "|    523|    1241|2013-12-25 01:51:00|2013-12-25 02:12:00|                     21|\n",
      "|    578|    1230|2013-12-25 01:52:00|2013-12-25 02:12:00|                     20|\n",
      "|    322|    1134|2013-12-25 01:53:00|2013-12-25 02:12:00|                     19|\n",
      "|    480|     888|2013-12-25 01:57:00|2013-12-25 02:12:00|                     15|\n",
      "|    470|    1662|2013-12-25 02:13:00|2013-12-25 02:41:00|                     28|\n",
      "|    578|    1559|2013-12-25 02:14:00|2013-12-25 02:40:00|                     26|\n",
      "|    523|    1560|2013-12-25 02:14:00|2013-12-25 02:40:00|                     26|\n",
      "+-------+--------+-------------------+-------------------+-----------------------+\n",
      "only showing top 10 rows\n",
      "\n"
     ]
    }
   ],
   "source": [
    "dfs_time_all.show(10)"
   ]
  },
  {
   "cell_type": "code",
   "execution_count": 32,
   "id": "b44dc27b-526f-4865-bcc9-3c8159d7d6f9",
   "metadata": {},
   "outputs": [
    {
     "name": "stdout",
     "output_type": "stream",
     "text": [
      "+-------+----------------------------+\n",
      "|bike_id|max(date_travel_hour_minute)|\n",
      "+-------+----------------------------+\n",
      "|    463|                          19|\n",
      "|    392|                         134|\n",
      "|    540|                          24|\n",
      "|    516|                         155|\n",
      "|     85|                          12|\n",
      "|    458|                          11|\n",
      "|    322|                          31|\n",
      "|    513|                         212|\n",
      "|    362|                         276|\n",
      "|    613|                         124|\n",
      "|    375|                          34|\n",
      "|    368|                         140|\n",
      "|    596|                          24|\n",
      "|    497|                           4|\n",
      "|    412|                         197|\n",
      "|    300|                           5|\n",
      "|    626|                           4|\n",
      "|    577|                          89|\n",
      "|    271|                          23|\n",
      "|    329|                           7|\n",
      "+-------+----------------------------+\n",
      "only showing top 20 rows\n",
      "\n",
      "+----------------------------+\n",
      "|max(date_travel_hour_minute)|\n",
      "+----------------------------+\n",
      "|                         399|\n",
      "+----------------------------+\n",
      "\n"
     ]
    }
   ],
   "source": [
    "# Группируем по айди байка и смотрим продолжительность поездок\n",
    "i = dfs_time_all.groupBy('bike_id').agg(F.max('date_travel_hour_minute'))\n",
    "i.show()\n",
    "# Итого саммая продолжительная поездка\n",
    "j = dfs_time_all.agg(F.max('date_travel_hour_minute'))\n",
    "j.show()"
   ]
  },
  {
   "cell_type": "code",
   "execution_count": 33,
   "id": "af33c57e-0d47-4b61-89f7-a6a502e3fd8a",
   "metadata": {},
   "outputs": [
    {
     "name": "stdout",
     "output_type": "stream",
     "text": [
      "+-------+--------+-------------------+-------------------+-----------------------+\n",
      "|bike_id|duration|         start_date|           end_date|date_travel_hour_minute|\n",
      "+-------+--------+-------------------+-------------------+-----------------------+\n",
      "|    555|   23909|2013-12-25 14:52:00|2013-12-25 21:31:00|                    399|\n",
      "+-------+--------+-------------------+-------------------+-----------------------+\n",
      "\n"
     ]
    }
   ],
   "source": [
    "# Сам велосипед где поездка равна самой большой (см. выше) \n",
    "\n",
    "k = dfs_time_all[dfs_time_all.date_travel_hour_minute == 399] \n",
    "k.show()"
   ]
  },
  {
   "cell_type": "markdown",
   "id": "7adbfa4b-6e56-4414-bbbb-89eea0125f16",
   "metadata": {},
   "source": [
    "### Task: `Найти наибольшее геодезическое расстояние между станциями.`"
   ]
  },
  {
   "cell_type": "code",
   "execution_count": 34,
   "id": "1453060a-227b-445b-bf28-d73671287368",
   "metadata": {},
   "outputs": [],
   "source": [
    "stations = spark.read.option(\"header\", True).csv(\"stations.csv\")"
   ]
  },
  {
   "cell_type": "code",
   "execution_count": 35,
   "id": "a0c995e5-8c69-42db-889c-93e45106ae51",
   "metadata": {},
   "outputs": [
    {
     "name": "stdout",
     "output_type": "stream",
     "text": [
      "+---+--------------------+------------------+-------------------+----------+------------+-----------------+\n",
      "| id|                name|               lat|               long|dock_count|        city|installation_date|\n",
      "+---+--------------------+------------------+-------------------+----------+------------+-----------------+\n",
      "|  2|San Jose Diridon ...|         37.329732|-121.90178200000001|        27|    San Jose|         8/6/2013|\n",
      "|  3|San Jose Civic Ce...|         37.330698|        -121.888979|        15|    San Jose|         8/5/2013|\n",
      "|  4|Santa Clara at Al...|         37.333988|        -121.894902|        11|    San Jose|         8/6/2013|\n",
      "|  5|    Adobe on Almaden|         37.331415|          -121.8932|        19|    San Jose|         8/5/2013|\n",
      "|  6|    San Pedro Square|37.336721000000004|        -121.894074|        15|    San Jose|         8/7/2013|\n",
      "|  7|Paseo de San Antonio|         37.333798|-121.88694299999999|        15|    San Jose|         8/7/2013|\n",
      "|  8| San Salvador at 1st|         37.330165|-121.88583100000001|        15|    San Jose|         8/5/2013|\n",
      "|  9|           Japantown|         37.348742|-121.89471499999999|        15|    San Jose|         8/5/2013|\n",
      "| 10|  San Jose City Hall|         37.337391|        -121.886995|        15|    San Jose|         8/6/2013|\n",
      "| 11|         MLK Library|         37.335885|-121.88566000000002|        19|    San Jose|         8/6/2013|\n",
      "| 12|SJSU 4th at San C...|         37.332808|-121.88389099999999|        19|    San Jose|         8/7/2013|\n",
      "| 13|       St James Park|         37.339301|-121.88993700000002|        15|    San Jose|         8/6/2013|\n",
      "| 14|Arena Green / SAP...|         37.332692|        -121.900084|        19|    San Jose|         8/5/2013|\n",
      "| 16|SJSU - San Salvad...|37.333954999999996|        -121.877349|        15|    San Jose|         8/7/2013|\n",
      "| 21|   Franklin at Maple|         37.481758|        -122.226904|        15|Redwood City|        8/12/2013|\n",
      "| 22|Redwood City Calt...|37.486078000000006|-122.23208899999999|        25|Redwood City|        8/15/2013|\n",
      "| 23|San Mateo County ...|37.487615999999996|        -122.229951|        15|Redwood City|        8/15/2013|\n",
      "| 24|Redwood City Publ...|         37.484219|        -122.227424|        15|Redwood City|        8/12/2013|\n",
      "| 25|Stanford in Redwo...|          37.48537|-122.20328799999999|        15|Redwood City|        8/12/2013|\n",
      "| 26|Redwood City Medi...|         37.487682|        -122.223492|        15|Redwood City|        8/12/2013|\n",
      "+---+--------------------+------------------+-------------------+----------+------------+-----------------+\n",
      "only showing top 20 rows\n",
      "\n"
     ]
    }
   ],
   "source": [
    "stations.show()"
   ]
  },
  {
   "cell_type": "code",
   "execution_count": 36,
   "id": "419bd04d-8983-4a11-aa68-e44c0516724d",
   "metadata": {},
   "outputs": [],
   "source": [
    "all_combinations = stations.selectExpr('name as A', 'lat as A_lat', 'long as A_long').join(stations.selectExpr('name as B', 'lat as B_lat', 'long as B_long'))"
   ]
  },
  {
   "cell_type": "code",
   "execution_count": 37,
   "id": "f64ea631-3ac3-44a6-bb01-247e799ae009",
   "metadata": {},
   "outputs": [
    {
     "name": "stdout",
     "output_type": "stream",
     "text": [
      "+--------------------+---------+-------------------+--------------------+------------------+-------------------+\n",
      "|                   A|    A_lat|             A_long|                   B|             B_lat|             B_long|\n",
      "+--------------------+---------+-------------------+--------------------+------------------+-------------------+\n",
      "|San Jose Diridon ...|37.329732|-121.90178200000001|San Jose Diridon ...|         37.329732|-121.90178200000001|\n",
      "|San Jose Diridon ...|37.329732|-121.90178200000001|San Jose Civic Ce...|         37.330698|        -121.888979|\n",
      "|San Jose Diridon ...|37.329732|-121.90178200000001|Santa Clara at Al...|         37.333988|        -121.894902|\n",
      "|San Jose Diridon ...|37.329732|-121.90178200000001|    Adobe on Almaden|         37.331415|          -121.8932|\n",
      "|San Jose Diridon ...|37.329732|-121.90178200000001|    San Pedro Square|37.336721000000004|        -121.894074|\n",
      "|San Jose Diridon ...|37.329732|-121.90178200000001|Paseo de San Antonio|         37.333798|-121.88694299999999|\n",
      "|San Jose Diridon ...|37.329732|-121.90178200000001| San Salvador at 1st|         37.330165|-121.88583100000001|\n",
      "|San Jose Diridon ...|37.329732|-121.90178200000001|           Japantown|         37.348742|-121.89471499999999|\n",
      "|San Jose Diridon ...|37.329732|-121.90178200000001|  San Jose City Hall|         37.337391|        -121.886995|\n",
      "|San Jose Diridon ...|37.329732|-121.90178200000001|         MLK Library|         37.335885|-121.88566000000002|\n",
      "|San Jose Diridon ...|37.329732|-121.90178200000001|SJSU 4th at San C...|         37.332808|-121.88389099999999|\n",
      "|San Jose Diridon ...|37.329732|-121.90178200000001|       St James Park|         37.339301|-121.88993700000002|\n",
      "|San Jose Diridon ...|37.329732|-121.90178200000001|Arena Green / SAP...|         37.332692|        -121.900084|\n",
      "|San Jose Diridon ...|37.329732|-121.90178200000001|SJSU - San Salvad...|37.333954999999996|        -121.877349|\n",
      "|San Jose Diridon ...|37.329732|-121.90178200000001|   Franklin at Maple|         37.481758|        -122.226904|\n",
      "|San Jose Diridon ...|37.329732|-121.90178200000001|Redwood City Calt...|37.486078000000006|-122.23208899999999|\n",
      "|San Jose Diridon ...|37.329732|-121.90178200000001|San Mateo County ...|37.487615999999996|        -122.229951|\n",
      "|San Jose Diridon ...|37.329732|-121.90178200000001|Redwood City Publ...|         37.484219|        -122.227424|\n",
      "|San Jose Diridon ...|37.329732|-121.90178200000001|Stanford in Redwo...|          37.48537|-122.20328799999999|\n",
      "|San Jose Diridon ...|37.329732|-121.90178200000001|Redwood City Medi...|         37.487682|        -122.223492|\n",
      "+--------------------+---------+-------------------+--------------------+------------------+-------------------+\n",
      "only showing top 20 rows\n",
      "\n"
     ]
    }
   ],
   "source": [
    "all_combinations.show()"
   ]
  },
  {
   "cell_type": "code",
   "execution_count": 38,
   "id": "b46a1a35-0c96-438f-92d9-9a5e76dffffa",
   "metadata": {},
   "outputs": [],
   "source": [
    "all_different_combinations = all_combinations[all_combinations.A != all_combinations.B]"
   ]
  },
  {
   "cell_type": "code",
   "execution_count": 39,
   "id": "edc15b6e-b231-4004-aaa2-09fbe8478de5",
   "metadata": {},
   "outputs": [],
   "source": [
    "from math import sqrt\n",
    "def euclidian_distance(ax, ay, bx, by):\n",
    "    return sqrt((ax-bx)**2 + (ay-by)**2)"
   ]
  },
  {
   "cell_type": "code",
   "execution_count": 40,
   "id": "025d3f38-1dd5-4faa-8353-673bb0eeb5be",
   "metadata": {},
   "outputs": [],
   "source": [
    "distances_between_stations = all_different_combinations.rdd.map(lambda row: (row.A, row.B, euclidian_distance(float(row.A_lat), float(row.A_long), float(row.B_lat), float(row.B_long)) ))"
   ]
  },
  {
   "cell_type": "code",
   "execution_count": 41,
   "id": "2c9444df-3b0f-498c-8577-407485a86de4",
   "metadata": {},
   "outputs": [
    {
     "data": {
      "text/plain": [
       "('SJSU - San Salvador at 9th', 'Embarcadero at Sansome', 0.7058482821754397)"
      ]
     },
     "execution_count": 41,
     "metadata": {},
     "output_type": "execute_result"
    }
   ],
   "source": [
    "distances_between_stations.max(lambda row: row[2])"
   ]
  },
  {
   "cell_type": "markdown",
   "id": "846afc1f-b03f-4292-92dd-3dcf57f5eaa8",
   "metadata": {},
   "source": [
    "### Task: `Найти путь велосипеда с максимальным временем пробега через станции.`"
   ]
  },
  {
   "cell_type": "code",
   "execution_count": 42,
   "id": "080479f8-ae69-4c72-8db7-35aeaac0691e",
   "metadata": {},
   "outputs": [
    {
     "name": "stdout",
     "output_type": "stream",
     "text": [
      "+-------+--------+-------------------+-------------------+\n",
      "|bike_id|duration|         start_date|           end_date|\n",
      "+-------+--------+-------------------+-------------------+\n",
      "|    544|     497|2013-12-25 01:41:00|2013-12-25 01:49:00|\n",
      "|    470|    1577|2013-12-25 01:46:00|2013-12-25 02:12:00|\n",
      "|    494|    1409|2013-12-25 01:49:00|2013-12-25 02:12:00|\n",
      "|    523|    1241|2013-12-25 01:51:00|2013-12-25 02:12:00|\n",
      "|    578|    1230|2013-12-25 01:52:00|2013-12-25 02:12:00|\n",
      "|    322|    1134|2013-12-25 01:53:00|2013-12-25 02:12:00|\n",
      "|    480|     888|2013-12-25 01:57:00|2013-12-25 02:12:00|\n",
      "|    470|    1662|2013-12-25 02:13:00|2013-12-25 02:41:00|\n",
      "|    578|    1559|2013-12-25 02:14:00|2013-12-25 02:40:00|\n",
      "|    523|    1560|2013-12-25 02:14:00|2013-12-25 02:40:00|\n",
      "|    322|    1518|2013-12-25 02:14:00|2013-12-25 02:40:00|\n",
      "|    494|    1470|2013-12-25 02:15:00|2013-12-25 02:40:00|\n",
      "|    482|    2430|2013-12-25 02:15:00|2013-12-25 02:56:00|\n",
      "|    634|    1434|2013-12-25 02:16:00|2013-12-25 02:40:00|\n",
      "|    626|     198|2013-12-25 02:24:00|2013-12-25 02:28:00|\n",
      "|    523|    1868|2013-12-25 02:50:00|2013-12-25 03:22:00|\n",
      "|    322|    1833|2013-12-25 02:51:00|2013-12-25 03:22:00|\n",
      "|    494|      66|2013-12-25 02:52:00|2013-12-25 02:53:00|\n",
      "|    578|    1799|2013-12-25 02:52:00|2013-12-25 03:22:00|\n",
      "|    470|    1730|2013-12-25 02:53:00|2013-12-25 03:22:00|\n",
      "+-------+--------+-------------------+-------------------+\n",
      "only showing top 20 rows\n",
      "\n"
     ]
    }
   ],
   "source": [
    "df_n3 = spark.sql(\"\"\"\n",
    "SELECT bike_id, duration, start_date, end_date \n",
    "FROM trips \n",
    "WHERE \n",
    "    start_date > make_timestamp(2013, 12, 25, 0, 0, 0) \n",
    "    AND start_date <  make_timestamp(2013, 12, 26, 0, 0, 0)\n",
    "\"\"\")\n",
    "df_n3.show(20)"
   ]
  },
  {
   "cell_type": "code",
   "execution_count": 43,
   "id": "4802a7b6-0240-499d-ad08-4289f22d5fb1",
   "metadata": {},
   "outputs": [
    {
     "name": "stdout",
     "output_type": "stream",
     "text": [
      "Row(max(duration)=91897)\n"
     ]
    }
   ],
   "source": [
    "trip_max_vremya = df_n3.agg({\"duration\": \"max\"}).collect()[0]\n",
    "print(trip_max_vremya)"
   ]
  },
  {
   "cell_type": "code",
   "execution_count": 46,
   "id": "0a90e2e2-e46e-4a01-ae09-bec0ab2c212e",
   "metadata": {},
   "outputs": [
    {
     "name": "stdout",
     "output_type": "stream",
     "text": [
      "+-------+--------+-------------------+-------------------+\n",
      "|bike_id|duration|         start_date|           end_date|\n",
      "+-------+--------+-------------------+-------------------+\n",
      "|    656|   91897|2013-12-25 07:58:00|2013-12-26 09:30:00|\n",
      "+-------+--------+-------------------+-------------------+\n",
      "\n"
     ]
    }
   ],
   "source": [
    "# Выводим строку для данного велосипеда\n",
    "\n",
    "df_n3[df_n3.duration == 91897].show()"
   ]
  },
  {
   "cell_type": "code",
   "execution_count": 47,
   "id": "0b0c0560-d0ee-4c7f-90c6-7e25322d89ce",
   "metadata": {},
   "outputs": [
    {
     "name": "stdout",
     "output_type": "stream",
     "text": [
      "+-----+--------+-------------------+--------------------+----------------+-------------------+--------------------+--------------+-------+-----------------+--------+\n",
      "|   id|duration|         start_date|  start_station_name|start_station_id|           end_date|    end_station_name|end_station_id|bike_id|subscription_type|zip_code|\n",
      "+-----+--------+-------------------+--------------------+----------------+-------------------+--------------------+--------------+-------+-----------------+--------+\n",
      "|15833|    3297|2013-09-09 17:31:00|SJSU 4th at San C...|              12|2013-09-09 18:26:00|SJSU 4th at San C...|            12|    656|         Customer|   93035|\n",
      "|17053|     837|2013-09-10 18:09:00|SJSU 4th at San C...|              12|2013-09-10 18:23:00|San Jose Diridon ...|             2|    656|       Subscriber|   95110|\n",
      "|17084|    1093|2013-09-10 18:26:00|San Jose Diridon ...|               2|2013-09-10 18:44:00|SJSU - San Salvad...|            16|    656|       Subscriber|   95110|\n",
      "|19600|     288|2013-09-12 20:01:00|Santa Clara at Al...|               4|2013-09-12 20:06:00|Paseo de San Antonio|             7|    656|       Subscriber|   95110|\n",
      "|20120|     192|2013-09-13 10:57:00|Paseo de San Antonio|               7|2013-09-13 11:01:00|SJSU 4th at San C...|            12|    656|       Subscriber|   95112|\n",
      "|20130|    1401|2013-09-13 11:08:00|SJSU 4th at San C...|              12|2013-09-13 11:31:00|Paseo de San Antonio|             7|    656|       Subscriber|   95112|\n",
      "|24992|     245|2013-09-17 17:50:00|Paseo de San Antonio|               7|2013-09-17 17:54:00|SJSU 4th at San C...|            12|    656|       Subscriber|   95125|\n",
      "|26769|     256|2013-09-18 22:21:00|SJSU 4th at San C...|              12|2013-09-18 22:26:00|SJSU - San Salvad...|            16|    656|       Subscriber|   94044|\n",
      "|29874|     293|2013-09-21 15:50:00|Santa Clara at Al...|               4|2013-09-21 15:55:00|San Jose Diridon ...|             2|    656|         Customer|   94158|\n",
      "|30289|     661|2013-09-22 09:57:00|San Jose Diridon ...|               2|2013-09-22 10:08:00|  San Jose City Hall|            10|    656|       Subscriber|   95073|\n",
      "+-----+--------+-------------------+--------------------+----------------+-------------------+--------------------+--------------+-------+-----------------+--------+\n",
      "only showing top 10 rows\n",
      "\n"
     ]
    }
   ],
   "source": [
    "STATION_BIKE = tripData[tripData.bike_id == 656]\n",
    "STATION_BIKE.show(10)"
   ]
  },
  {
   "cell_type": "code",
   "execution_count": 49,
   "id": "511e6531-e4cc-44e0-a400-3c2ed43ecd37",
   "metadata": {},
   "outputs": [
    {
     "name": "stdout",
     "output_type": "stream",
     "text": [
      "+--------------------+--------------------+\n",
      "|  start_station_name|    end_station_name|\n",
      "+--------------------+--------------------+\n",
      "|SJSU 4th at San C...|SJSU 4th at San C...|\n",
      "|SJSU 4th at San C...|San Jose Diridon ...|\n",
      "|San Jose Diridon ...|SJSU - San Salvad...|\n",
      "|Santa Clara at Al...|Paseo de San Antonio|\n",
      "|Paseo de San Antonio|SJSU 4th at San C...|\n",
      "|SJSU 4th at San C...|Paseo de San Antonio|\n",
      "|Paseo de San Antonio|SJSU 4th at San C...|\n",
      "|SJSU 4th at San C...|SJSU - San Salvad...|\n",
      "|Santa Clara at Al...|San Jose Diridon ...|\n",
      "|San Jose Diridon ...|  San Jose City Hall|\n",
      "|  San Jose City Hall| San Salvador at 1st|\n",
      "| San Salvador at 1st|San Jose Diridon ...|\n",
      "|San Jose Diridon ...|    San Pedro Square|\n",
      "|San Jose Diridon ...|Santa Clara at Al...|\n",
      "|Santa Clara at Al...|San Jose Civic Ce...|\n",
      "|San Jose Civic Ce...|San Jose Civic Ce...|\n",
      "|San Jose Civic Ce...|San Jose Diridon ...|\n",
      "|San Jose Diridon ...|    Adobe on Almaden|\n",
      "|  San Jose City Hall| San Salvador at 1st|\n",
      "| San Salvador at 1st|         MLK Library|\n",
      "+--------------------+--------------------+\n",
      "only showing top 20 rows\n",
      "\n"
     ]
    }
   ],
   "source": [
    "#Информация о проделанном пути\n",
    "\n",
    "\n",
    "STATION_BIKE = STATION_BIKE.select(STATION_BIKE['start_station_name'], STATION_BIKE['end_station_name'])\n",
    "STATION_BIKE.show(20) "
   ]
  },
  {
   "cell_type": "code",
   "execution_count": 54,
   "id": "a0093d38-152b-4d37-aef9-7db9be361979",
   "metadata": {},
   "outputs": [],
   "source": [
    "\n",
    "df_data = df_1.withColumn(\n",
    "    'diff',\n",
    "    (F.datediff(F.to_date(df_1.end_date), F.to_date(df_1.start_date))*24*60*60+\n",
    "    (F.unix_timestamp(F.to_timestamp(F.col('end_date')))) - \n",
    "    (F.unix_timestamp(F.to_timestamp(F.col('start_date')))))/60\n",
    ")"
   ]
  },
  {
   "cell_type": "code",
   "execution_count": 55,
   "id": "6600957e-93d6-4c6c-9ccc-4d9a8f45a68c",
   "metadata": {},
   "outputs": [
    {
     "name": "stdout",
     "output_type": "stream",
     "text": [
      "+-------+--------+-------------------+-------------------+----+\n",
      "|bike_id|duration|         start_date|           end_date|diff|\n",
      "+-------+--------+-------------------+-------------------+----+\n",
      "|    544|     497|2013-12-25 01:41:00|2013-12-25 01:49:00| 8.0|\n",
      "|    470|    1577|2013-12-25 01:46:00|2013-12-25 02:12:00|26.0|\n",
      "|    494|    1409|2013-12-25 01:49:00|2013-12-25 02:12:00|23.0|\n",
      "|    523|    1241|2013-12-25 01:51:00|2013-12-25 02:12:00|21.0|\n",
      "|    578|    1230|2013-12-25 01:52:00|2013-12-25 02:12:00|20.0|\n",
      "|    322|    1134|2013-12-25 01:53:00|2013-12-25 02:12:00|19.0|\n",
      "|    480|     888|2013-12-25 01:57:00|2013-12-25 02:12:00|15.0|\n",
      "|    470|    1662|2013-12-25 02:13:00|2013-12-25 02:41:00|28.0|\n",
      "|    578|    1559|2013-12-25 02:14:00|2013-12-25 02:40:00|26.0|\n",
      "|    523|    1560|2013-12-25 02:14:00|2013-12-25 02:40:00|26.0|\n",
      "+-------+--------+-------------------+-------------------+----+\n",
      "only showing top 10 rows\n",
      "\n"
     ]
    }
   ],
   "source": [
    "df_data.dropna().show(n=10)"
   ]
  },
  {
   "cell_type": "code",
   "execution_count": 56,
   "id": "24166521-6dca-49e0-bd38-9409a4f485c4",
   "metadata": {},
   "outputs": [
    {
     "name": "stdout",
     "output_type": "stream",
     "text": [
      "Row(max(diff)=2972.0)\n"
     ]
    }
   ],
   "source": [
    "trip_max_vremya = df_data.agg({\"diff\": \"max\"}).collect()[0]\n",
    "print(trip_max_vremya)"
   ]
  },
  {
   "cell_type": "code",
   "execution_count": 57,
   "id": "288f397b-6608-4606-a4ba-1234dc6052cd",
   "metadata": {},
   "outputs": [
    {
     "name": "stdout",
     "output_type": "stream",
     "text": [
      "+-------+--------+-------------------+-------------------+------+\n",
      "|bike_id|duration|         start_date|           end_date|  diff|\n",
      "+-------+--------+-------------------+-------------------+------+\n",
      "|    656|   91897|2013-12-25 07:58:00|2013-12-26 09:30:00|2972.0|\n",
      "+-------+--------+-------------------+-------------------+------+\n",
      "\n"
     ]
    }
   ],
   "source": [
    "k = df_data[df_data.diff == 2972] #Выводим велосипед с самой долгой поездкой (diff) Смотрим его duration\n",
    "k.show()"
   ]
  },
  {
   "cell_type": "markdown",
   "id": "49d3e8c8-a290-482b-860a-d6372d3b201a",
   "metadata": {},
   "source": [
    "### Task: `Найти количество велосипедов в системе.`"
   ]
  },
  {
   "cell_type": "code",
   "execution_count": 58,
   "id": "666f461b-f2b3-418f-a8fd-71e1bb36e6c7",
   "metadata": {},
   "outputs": [],
   "source": [
    "from pyspark.sql.functions import col, countDistinct"
   ]
  },
  {
   "cell_type": "code",
   "execution_count": 59,
   "id": "c8c4141f-90d7-4e93-a614-4939e39eb833",
   "metadata": {},
   "outputs": [
    {
     "name": "stdout",
     "output_type": "stream",
     "text": [
      "+----+--------+-------------------+--------------------+----------------+-------------------+--------------------+--------------+-------+-----------------+--------+\n",
      "|  id|duration|         start_date|  start_station_name|start_station_id|           end_date|    end_station_name|end_station_id|bike_id|subscription_type|zip_code|\n",
      "+----+--------+-------------------+--------------------+----------------+-------------------+--------------------+--------------+-------+-----------------+--------+\n",
      "|4576|      63|               null|South Van Ness at...|              66|2013-08-29 14:14:00|South Van Ness at...|            66|    520|       Subscriber|   94127|\n",
      "|4607|    null|2013-08-29 14:42:00|  San Jose City Hall|              10|2013-08-29 14:43:00|  San Jose City Hall|            10|    661|       Subscriber|   95138|\n",
      "|4130|      71|2013-08-29 10:16:00|Mountain View Cit...|              27|2013-08-29 10:17:00|Mountain View Cit...|            27|     48|       Subscriber|   97214|\n",
      "|4251|      77|2013-08-29 11:29:00|  San Jose City Hall|              10|2013-08-29 11:30:00|  San Jose City Hall|            10|     26|       Subscriber|   95060|\n",
      "|4299|      83|2013-08-29 12:02:00|South Van Ness at...|              66|2013-08-29 12:04:00|      Market at 10th|            67|    319|       Subscriber|   94103|\n",
      "+----+--------+-------------------+--------------------+----------------+-------------------+--------------------+--------------+-------+-----------------+--------+\n",
      "only showing top 5 rows\n",
      "\n",
      "+-------+\n",
      "|bike_id|\n",
      "+-------+\n",
      "|    520|\n",
      "|    661|\n",
      "|     48|\n",
      "|     26|\n",
      "|    319|\n",
      "|    527|\n",
      "|    679|\n",
      "|    687|\n",
      "|    553|\n",
      "|    107|\n",
      "+-------+\n",
      "only showing top 10 rows\n",
      "\n"
     ]
    }
   ],
   "source": [
    "tripData.show(5)\n",
    " \n",
    "    \n",
    "df_id = spark.sql(\"\"\"\n",
    "SELECT bike_id \n",
    "FROM trips \n",
    "\"\"\")\n",
    "df_id.show(10)   "
   ]
  },
  {
   "cell_type": "code",
   "execution_count": 60,
   "id": "816551dc-63c9-41ac-af4e-ae52cc4c7113",
   "metadata": {},
   "outputs": [
    {
     "name": "stdout",
     "output_type": "stream",
     "text": [
      "Кол-во велосипедов:  700\n"
     ]
    }
   ],
   "source": [
    "print('Кол-во велосипедов: ', df_id.distinct().count())"
   ]
  },
  {
   "cell_type": "markdown",
   "id": "0adc40f9-3e07-4269-9bd2-635f1e275d2c",
   "metadata": {},
   "source": [
    "### Task: `5 Найти пользователей потративших на поездки более 3 часов.` "
   ]
  },
  {
   "cell_type": "code",
   "execution_count": 65,
   "id": "191f0a85-f8d9-41b5-bb0d-55675e65025f",
   "metadata": {},
   "outputs": [
    {
     "name": "stdout",
     "output_type": "stream",
     "text": [
      "+-------+--------+-------------------+-------------------+\n",
      "|bike_id|duration|         start_date|           end_date|\n",
      "+-------+--------+-------------------+-------------------+\n",
      "|    544|     497|2013-12-25 01:41:00|2013-12-25 01:49:00|\n",
      "|    470|    1577|2013-12-25 01:46:00|2013-12-25 02:12:00|\n",
      "|    494|    1409|2013-12-25 01:49:00|2013-12-25 02:12:00|\n",
      "|    523|    1241|2013-12-25 01:51:00|2013-12-25 02:12:00|\n",
      "|    578|    1230|2013-12-25 01:52:00|2013-12-25 02:12:00|\n",
      "|    322|    1134|2013-12-25 01:53:00|2013-12-25 02:12:00|\n",
      "|    480|     888|2013-12-25 01:57:00|2013-12-25 02:12:00|\n",
      "|    470|    1662|2013-12-25 02:13:00|2013-12-25 02:41:00|\n",
      "|    578|    1559|2013-12-25 02:14:00|2013-12-25 02:40:00|\n",
      "|    523|    1560|2013-12-25 02:14:00|2013-12-25 02:40:00|\n",
      "+-------+--------+-------------------+-------------------+\n",
      "only showing top 10 rows\n",
      "\n"
     ]
    }
   ],
   "source": [
    "# Вывели структуру с датами\n",
    "\n",
    "df_1.show(10) "
   ]
  },
  {
   "cell_type": "code",
   "execution_count": 66,
   "id": "b7e457b7-2920-47cb-981f-ce2ec9f14994",
   "metadata": {},
   "outputs": [
    {
     "name": "stdout",
     "output_type": "stream",
     "text": [
      "+-------+--------+-------------------+-------------------+------+\n",
      "|bike_id|duration|         start_date|           end_date|  diff|\n",
      "+-------+--------+-------------------+-------------------+------+\n",
      "|    656|   91897|2013-12-25 07:58:00|2013-12-26 09:30:00|2972.0|\n",
      "|    366|   16375|2013-12-25 09:36:00|2013-12-25 14:09:00| 273.0|\n",
      "|    371|   16368|2013-12-25 09:36:00|2013-12-25 14:09:00| 273.0|\n",
      "|    127|   11192|2013-12-25 09:40:00|2013-12-25 12:46:00| 186.0|\n",
      "|    643|   10979|2013-12-25 09:43:00|2013-12-25 12:46:00| 183.0|\n",
      "|    412|   11823|2013-12-25 11:14:00|2013-12-25 14:31:00| 197.0|\n",
      "|    468|   16841|2013-12-25 12:45:00|2013-12-25 17:26:00| 281.0|\n",
      "|    362|   16598|2013-12-25 12:49:00|2013-12-25 17:25:00| 276.0|\n",
      "|    562|   16415|2013-12-25 12:52:00|2013-12-25 17:25:00| 273.0|\n",
      "|    414|   11308|2013-12-25 12:52:00|2013-12-25 16:00:00| 188.0|\n",
      "|    578|   12311|2013-12-25 12:56:00|2013-12-25 16:21:00| 205.0|\n",
      "|    520|   15928|2013-12-25 13:00:00|2013-12-25 17:25:00| 265.0|\n",
      "|    627|   19432|2013-12-25 13:04:00|2013-12-25 18:28:00| 324.0|\n",
      "|    582|   19128|2013-12-25 13:08:00|2013-12-25 18:27:00| 319.0|\n",
      "|    591|   19362|2013-12-25 13:58:00|2013-12-25 19:20:00| 322.0|\n",
      "|    428|   11306|2013-12-25 13:59:00|2013-12-25 17:07:00| 188.0|\n",
      "|    636|   11291|2013-12-25 13:59:00|2013-12-25 17:07:00| 188.0|\n",
      "|    351|   18159|2013-12-25 14:04:00|2013-12-25 19:07:00| 303.0|\n",
      "|    358|   17925|2013-12-25 14:08:00|2013-12-25 19:06:00| 298.0|\n",
      "|    309|   12404|2013-12-25 14:20:00|2013-12-25 17:47:00| 207.0|\n",
      "|    555|   23909|2013-12-25 14:52:00|2013-12-25 21:31:00| 399.0|\n",
      "|    361|   12780|2013-12-25 15:40:00|2013-12-25 19:13:00| 213.0|\n",
      "|    513|   12691|2013-12-25 15:41:00|2013-12-25 19:13:00| 212.0|\n",
      "|    394|   80010|2013-12-25 16:09:00|2013-12-26 14:23:00|2774.0|\n",
      "|    599|   22315|2013-12-25 16:57:00|2013-12-25 23:09:00| 372.0|\n",
      "|    532|   22244|2013-12-25 16:58:00|2013-12-25 23:09:00| 371.0|\n",
      "+-------+--------+-------------------+-------------------+------+\n",
      "\n"
     ]
    }
   ],
   "source": [
    "# Вычли разницу во времени\n",
    "\n",
    "df_data = df_1.withColumn(\n",
    "    'diff',\n",
    "    (F.datediff(F.to_date(df_1.end_date), F.to_date(df_1.start_date))*24*60*60+\n",
    "    (F.unix_timestamp(F.to_timestamp(F.col('end_date')))) - \n",
    "    (F.unix_timestamp(F.to_timestamp(F.col('start_date')))))/60\n",
    ")\n",
    "k = df_data[df_data.diff > 3*60] \n",
    "k.show(100) "
   ]
  }
 ],
 "metadata": {
  "kernelspec": {
   "display_name": "Python 3",
   "language": "python",
   "name": "python3"
  },
  "language_info": {
   "codemirror_mode": {
    "name": "ipython",
    "version": 3
   },
   "file_extension": ".py",
   "mimetype": "text/x-python",
   "name": "python",
   "nbconvert_exporter": "python",
   "pygments_lexer": "ipython3",
   "version": "3.9.5"
  }
 },
 "nbformat": 4,
 "nbformat_minor": 5
}
